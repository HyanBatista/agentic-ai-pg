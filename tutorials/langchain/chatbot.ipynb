{
 "cells": [
  {
   "cell_type": "code",
   "execution_count": 1,
   "id": "6bc914f9",
   "metadata": {},
   "outputs": [],
   "source": [
    "from operator import itemgetter\n",
    "\n",
    "from langchain_core.chat_history import InMemoryChatMessageHistory\n",
    "from langchain_core.messages import (\n",
    "    AIMessage,\n",
    "    HumanMessage,\n",
    "    SystemMessage,\n",
    "    trim_messages,\n",
    ")\n",
    "from langchain_core.prompts import ChatPromptTemplate, MessagesPlaceholder\n",
    "from langchain_core.runnables import RunnablePassthrough\n",
    "from langchain_core.runnables.history import RunnableWithMessageHistory\n",
    "from langchain_ollama.chat_models import ChatOllama"
   ]
  },
  {
   "cell_type": "code",
   "execution_count": 2,
   "id": "7b36cee5",
   "metadata": {},
   "outputs": [],
   "source": [
    "model = ChatOllama(model=\"gemma3\")"
   ]
  },
  {
   "cell_type": "code",
   "execution_count": 3,
   "id": "06db9d99",
   "metadata": {},
   "outputs": [
    {
     "data": {
      "text/plain": [
       "\"Hi Hyan, it's great to meet you! It's fascinating that you're an AI Engineer – that's a really exciting field right now. \\n\\nWhat kind of work do you typically do as an AI Engineer? Are you involved in building, training, deploying, or maintaining AI models?  \\n\\nI'm curious to hear more about your projects and what aspects of AI Engineering you find most interesting.  \\n\\nDo you want to tell me a little bit about:\\n\\n*   **What kind of AI models do you work with?** (e.g., Large Language Models, Computer Vision, Reinforcement Learning)\\n*   **What tools and technologies do you use?** (e.g., Python, TensorFlow, PyTorch, Cloud platforms)\\n*   **What's a recent project you've been working on that you’re particularly proud of?**\\n\\n\\nLet's chat!\""
      ]
     },
     "execution_count": 3,
     "metadata": {},
     "output_type": "execute_result"
    }
   ],
   "source": [
    "result = model.invoke(\n",
    "    [\n",
    "        HumanMessage(\n",
    "            content=\"Hi, I'm Hyan and I am an AI Engineer\"\n",
    "        )\n",
    "    ]\n",
    ")\n",
    "result.content"
   ]
  },
  {
   "cell_type": "code",
   "execution_count": 4,
   "id": "85feae0f",
   "metadata": {},
   "outputs": [
    {
     "name": "stdout",
     "output_type": "stream",
     "text": [
      "Okay, let’s clarify! Your name is Hyan, and you are an AI Engineer. \n",
      "\n",
      "Is that correct? 😊 \n",
      "\n",
      "It’s great to connect with you! Do you want to tell me a little more about what you do as an AI Engineer? Like, what kind of AI systems are you building, or what areas of AI are you most interested in?\n"
     ]
    }
   ],
   "source": [
    "result = model.invoke(\n",
    "    [\n",
    "        HumanMessage(content=\"Hi, I'm Hyan and I am an AI Engineer\"),\n",
    "        AIMessage(\n",
    "            content=\"Hi Hyan, it's nice to meet you! 👋 \\n\\nThat's awesome that you're an AI Engineer. What kind of projects are you working on these days?  \\n\\nI'm always interested to hear about the cool things people are doing in the field of AI.  😊\\n\"\n",
    "        ),\n",
    "        HumanMessage(content=\"Hi, what is my name and what do I do?\")\n",
    "    ]\n",
    ")\n",
    "print(result.content)"
   ]
  },
  {
   "cell_type": "code",
   "execution_count": 5,
   "id": "53a7a62b",
   "metadata": {},
   "outputs": [],
   "source": [
    "store = {}\n",
    "\n",
    "\n",
    "def get_session_history(session_id: str) -> InMemoryChatMessageHistory:\n",
    "    if session_id not in store:\n",
    "        store[session_id] = InMemoryChatMessageHistory()\n",
    "    return store[session_id]\n",
    "\n",
    "with_message_history = RunnableWithMessageHistory(model, get_session_history)"
   ]
  },
  {
   "cell_type": "code",
   "execution_count": 6,
   "id": "9b00631d",
   "metadata": {},
   "outputs": [],
   "source": [
    "config = {\"configurable\": {\"session_id\": \"chat1\"}}"
   ]
  },
  {
   "cell_type": "code",
   "execution_count": 7,
   "id": "3e3a7ac1",
   "metadata": {},
   "outputs": [],
   "source": [
    "response = with_message_history.invoke(\n",
    "    [HumanMessage(content=\"Hi, my name is Hyan and I am an AI engineer.\")],\n",
    "    config=config,\n",
    ")"
   ]
  },
  {
   "cell_type": "code",
   "execution_count": 8,
   "id": "5ae5ae4f",
   "metadata": {},
   "outputs": [
    {
     "name": "stdout",
     "output_type": "stream",
     "text": [
      "Hi Hyan, it's great to meet you! It’s really interesting that you’re an AI engineer – it’s a fascinating and rapidly evolving field. \n",
      "\n",
      "What kind of AI work are you currently involved in? Do you specialize in a particular area like machine learning, deep learning, NLP, computer vision, or something else? \n",
      "\n",
      "I’m always interested in learning more about the work people are doing in the AI space. 😊 \n",
      "\n",
      "Feel free to tell me a bit about what you're working on, or just chat about AI in general!\n"
     ]
    }
   ],
   "source": [
    "print(response.content)"
   ]
  },
  {
   "cell_type": "code",
   "execution_count": 9,
   "id": "fa900d2c",
   "metadata": {},
   "outputs": [
    {
     "name": "stdout",
     "output_type": "stream",
     "text": [
      "Your name is Hyan! 😊 \n",
      "\n",
      "I just wanted to confirm – I’m an AI and still learning to recognize names perfectly. It’s nice to know I got it right!\n"
     ]
    }
   ],
   "source": [
    "response = with_message_history.invoke(\n",
    "    [HumanMessage(content=\"What is my name?\")],\n",
    "    config={\n",
    "        \"configurable\": {\"session_id\": \"chat1\"}\n",
    "    },\n",
    ")\n",
    "print(response.content)"
   ]
  },
  {
   "cell_type": "code",
   "execution_count": 10,
   "id": "e8f667b0",
   "metadata": {},
   "outputs": [
    {
     "name": "stdout",
     "output_type": "stream",
     "text": [
      "Wow, Goku! That's absolutely incredible! Saving the world is a HUGE accomplishment. Seriously, that's something to be incredibly proud of. \n",
      "\n",
      "Tell me more! \n",
      "\n",
      "*   **How did you do it?** What kind of threat did you face? Was it a villain, a monster, a natural disaster... something else entirely?\n",
      "*   **What was the hardest part about saving the world?**\n",
      "*   **What does saving the world feel like?** (Like, does it feel amazing? Exhausting? A little scary?)\n",
      "\n",
      "I'm genuinely impressed! It's awesome to hear you've had such an epic adventure.\n"
     ]
    }
   ],
   "source": [
    "response = with_message_history.invoke(\n",
    "    [HumanMessage(content=\"My name is Goku and I saved the world!\")],\n",
    "    config={\n",
    "        \"configurable\": {\"session_id\": \"chat2\"}\n",
    "    },\n",
    ")\n",
    "print(response.content)"
   ]
  },
  {
   "cell_type": "code",
   "execution_count": 11,
   "id": "133175d3",
   "metadata": {},
   "outputs": [
    {
     "name": "stdout",
     "output_type": "stream",
     "text": [
      "Alright, Goku! Let’s hear it! You saved the world – that’s phenomenal! Seriously, that deserves a massive celebration.\n",
      "\n",
      "Okay, spill the beans! What happened? What kind of crazy situation did you have to overcome to pull off saving the world? Don’t hold back – I want all the details! 💪🔥\n"
     ]
    }
   ],
   "source": [
    "response = with_message_history.invoke(\n",
    "    [HumanMessage(content=\"My name is Goku and I saved the world!\")],\n",
    "    config={\n",
    "        \"configurable\": {\"session_id\": \"chat2\"}\n",
    "    },\n",
    ")\n",
    "print(response.content)"
   ]
  },
  {
   "cell_type": "code",
   "execution_count": 12,
   "id": "462d0d52",
   "metadata": {},
   "outputs": [
    {
     "name": "stdout",
     "output_type": "stream",
     "text": [
      "Absolutely! You’re Goku, the incredible warrior who saved the world! You’ve told me that yourself – it’s pretty amazing that you did that! \n",
      "\n",
      "You’ve got a serious reputation, Goku. A world-saving hero! It’s awesome to hear from you.\n",
      "\n",
      "Now, tell me more about your adventure! What kind of challenges did you face?\n"
     ]
    }
   ],
   "source": [
    "response = with_message_history.invoke(\n",
    "    [HumanMessage(content=\"Do you remember who I am?\")],\n",
    "    config={\n",
    "        \"configurable\": {\"session_id\": \"chat2\"}\n",
    "    },\n",
    ")\n",
    "print(response.content)"
   ]
  },
  {
   "cell_type": "code",
   "execution_count": 13,
   "id": "1764e44e",
   "metadata": {},
   "outputs": [],
   "source": [
    "prompt = ChatPromptTemplate.from_messages(\n",
    "    [\n",
    "        (\n",
    "            \"system\",\n",
    "            \"You are a helpful assistent. Answer all the questions to the best of your capacities.\",\n",
    "        ),\n",
    "        MessagesPlaceholder(variable_name=\"messages\"),\n",
    "    ]\n",
    ")\n",
    "\n",
    "chain = prompt | model"
   ]
  },
  {
   "cell_type": "code",
   "execution_count": 14,
   "id": "41317c71",
   "metadata": {},
   "outputs": [],
   "source": [
    "response = chain.invoke({\"messages\": [HumanMessage(content=\"Hi, my name is Krish\")]})"
   ]
  },
  {
   "cell_type": "code",
   "execution_count": 15,
   "id": "39d454bb",
   "metadata": {},
   "outputs": [],
   "source": [
    "with_message_history = RunnableWithMessageHistory(chain, get_session_history)"
   ]
  },
  {
   "cell_type": "code",
   "execution_count": 16,
   "id": "2d69279a",
   "metadata": {},
   "outputs": [],
   "source": [
    "config = {\"configurable\": {\"session_id\": \"chat3\"}}\n",
    "response = with_message_history.invoke(\n",
    "    [HumanMessage(content=\"Hi, my name is Hyan\")],\n",
    "    config=config,\n",
    ")"
   ]
  },
  {
   "cell_type": "code",
   "execution_count": 17,
   "id": "79f03610",
   "metadata": {},
   "outputs": [
    {
     "name": "stdout",
     "output_type": "stream",
     "text": [
      "Hi Hyan! It’s nice to meet you. 😊 \n",
      "\n",
      "How can I help you today? Do you want to chat, ask me a question, or maybe brainstorm something?\n"
     ]
    }
   ],
   "source": [
    "print(response.content)"
   ]
  },
  {
   "cell_type": "code",
   "execution_count": 18,
   "id": "2d7d4f05",
   "metadata": {},
   "outputs": [],
   "source": [
    "prompt = ChatPromptTemplate.from_messages(\n",
    "    [\n",
    "        (\n",
    "            \"system\",\n",
    "            \"You are a helpful assistent. Answer all the questions to the best of your capacities. Besides you must answer the human only in {language}.\",\n",
    "        ),\n",
    "        MessagesPlaceholder(variable_name=\"messages\"),\n",
    "    ]\n",
    ")\n",
    "\n",
    "chain = prompt | model"
   ]
  },
  {
   "cell_type": "code",
   "execution_count": 19,
   "id": "9d460653",
   "metadata": {},
   "outputs": [
    {
     "name": "stdout",
     "output_type": "stream",
     "text": [
      "Olá, Hyan! É um prazer te conhecer. Em que posso te ajudar hoje? 😊\n"
     ]
    }
   ],
   "source": [
    "response = chain.invoke(\n",
    "    {\n",
    "        \"messages\": [HumanMessage(content=\"Hi, my name is Hyan\")],\n",
    "        \"language\": \"Portuguese\",\n",
    "    }\n",
    ")\n",
    "print(response.content)"
   ]
  },
  {
   "cell_type": "code",
   "execution_count": 20,
   "id": "0dfb4ce2",
   "metadata": {},
   "outputs": [],
   "source": [
    "with_message_history = RunnableWithMessageHistory(\n",
    "    chain,\n",
    "    get_session_history,\n",
    "    input_messages_key=\"messages\",\n",
    ")"
   ]
  },
  {
   "cell_type": "code",
   "execution_count": 21,
   "id": "9f852cb0",
   "metadata": {},
   "outputs": [
    {
     "name": "stdout",
     "output_type": "stream",
     "text": [
      "Olá Hyan! É um prazer te conhecer. Em que posso te ajudar hoje? 😊\n",
      "\n"
     ]
    }
   ],
   "source": [
    "config = {\"configurable\": {\"session_id\": \"chat4\"}}\n",
    "response = with_message_history.invoke(\n",
    "    dict(\n",
    "        messages=[HumanMessage(content=\"Hello, my name is Hyan\")],\n",
    "        language=\"Portuguese\",\n",
    "    ),\n",
    "    config=config,\n",
    ")\n",
    "print(response.content)"
   ]
  },
  {
   "cell_type": "code",
   "execution_count": 22,
   "id": "a68c80e1",
   "metadata": {},
   "outputs": [
    {
     "data": {
      "text/plain": [
       "[SystemMessage(content=\"You're a good assistant\", additional_kwargs={}, response_metadata={}),\n",
       " HumanMessage(content=\"Hi! I'm Bob\", additional_kwargs={}, response_metadata={}),\n",
       " AIMessage(content='Hi!', additional_kwargs={}, response_metadata={}),\n",
       " HumanMessage(content=\"I'd like vanilla ice cream\", additional_kwargs={}, response_metadata={}),\n",
       " AIMessage(content='Nice!', additional_kwargs={}, response_metadata={}),\n",
       " HumanMessage(content='How much is 2 + 2?', additional_kwargs={}, response_metadata={}),\n",
       " AIMessage(content='4', additional_kwargs={}, response_metadata={}),\n",
       " HumanMessage(content='Thanks!', additional_kwargs={}, response_metadata={}),\n",
       " AIMessage(content='No problem!', additional_kwargs={}, response_metadata={}),\n",
       " HumanMessage(content='Having fun?', additional_kwargs={}, response_metadata={}),\n",
       " AIMessage(content='Yes!', additional_kwargs={}, response_metadata={})]"
      ]
     },
     "execution_count": 22,
     "metadata": {},
     "output_type": "execute_result"
    }
   ],
   "source": [
    "trimmer = trim_messages(\n",
    "    max_tokens=70,\n",
    "    strategy=\"last\",\n",
    "    token_counter=model,\n",
    "    include_system=True,\n",
    "    allow_partial=False,\n",
    "    start_on=\"human\",\n",
    ")\n",
    "\n",
    "messages = [\n",
    "    SystemMessage(content=\"You're a good assistant\"),\n",
    "    HumanMessage(content=\"Hi! I'm Bob\"),\n",
    "    AIMessage(content=\"Hi!\"),\n",
    "    HumanMessage(content=\"I'd like vanilla ice cream\"),\n",
    "    AIMessage(content=\"Nice!\"),\n",
    "    HumanMessage(content=\"How much is 2 + 2?\"),\n",
    "    AIMessage(content=\"4\"),\n",
    "    HumanMessage(content=\"Thanks!\"),\n",
    "    AIMessage(content=\"No problem!\"),\n",
    "    HumanMessage(content=\"Having fun?\"),\n",
    "    AIMessage(content=\"Yes!\"),\n",
    "]\n",
    "\n",
    "trimmer.invoke(messages)"
   ]
  },
  {
   "cell_type": "code",
   "execution_count": 23,
   "id": "febae572",
   "metadata": {},
   "outputs": [
    {
     "name": "stdout",
     "output_type": "stream",
     "text": [
      "Com base nas nossas conversas, parece que você gosta de sorvete de baunilha! 😊 \n",
      "\n",
      "(Based on our conversations, it seems you like vanilla ice cream!)\n"
     ]
    }
   ],
   "source": [
    "chain = (\n",
    "    RunnablePassthrough.assign(messages=itemgetter(\"messages\") | trimmer)\n",
    "    | prompt\n",
    "    | model\n",
    ")\n",
    "\n",
    "response = chain.invoke(\n",
    "    dict(\n",
    "        language=\"Portuguese\",\n",
    "        messages=messages + [HumanMessage(content=\"What ice cream do I like?\")],\n",
    "    )\n",
    ")\n",
    "\n",
    "print(response.content)"
   ]
  },
  {
   "cell_type": "code",
   "execution_count": 24,
   "id": "7e613c77",
   "metadata": {},
   "outputs": [],
   "source": [
    "with_message_history = RunnableWithMessageHistory(\n",
    "    chain,\n",
    "    get_session_history,\n",
    "    input_messages_key=\"messages\",\n",
    ")"
   ]
  },
  {
   "cell_type": "code",
   "execution_count": 25,
   "id": "a845608f",
   "metadata": {},
   "outputs": [
    {
     "data": {
      "text/plain": [
       "ChatPromptTemplate(input_variables=['language', 'messages'], input_types={'messages': list[typing.Annotated[typing.Union[typing.Annotated[langchain_core.messages.ai.AIMessage, Tag(tag='ai')], typing.Annotated[langchain_core.messages.human.HumanMessage, Tag(tag='human')], typing.Annotated[langchain_core.messages.chat.ChatMessage, Tag(tag='chat')], typing.Annotated[langchain_core.messages.system.SystemMessage, Tag(tag='system')], typing.Annotated[langchain_core.messages.function.FunctionMessage, Tag(tag='function')], typing.Annotated[langchain_core.messages.tool.ToolMessage, Tag(tag='tool')], typing.Annotated[langchain_core.messages.ai.AIMessageChunk, Tag(tag='AIMessageChunk')], typing.Annotated[langchain_core.messages.human.HumanMessageChunk, Tag(tag='HumanMessageChunk')], typing.Annotated[langchain_core.messages.chat.ChatMessageChunk, Tag(tag='ChatMessageChunk')], typing.Annotated[langchain_core.messages.system.SystemMessageChunk, Tag(tag='SystemMessageChunk')], typing.Annotated[langchain_core.messages.function.FunctionMessageChunk, Tag(tag='FunctionMessageChunk')], typing.Annotated[langchain_core.messages.tool.ToolMessageChunk, Tag(tag='ToolMessageChunk')]], FieldInfo(annotation=NoneType, required=True, discriminator=Discriminator(discriminator=<function _get_type at 0x113f1f060>, custom_error_type=None, custom_error_message=None, custom_error_context=None))]]}, partial_variables={}, messages=[SystemMessagePromptTemplate(prompt=PromptTemplate(input_variables=['language'], input_types={}, partial_variables={}, template='You are a helpful assistent. Answer all the questions to the best of your capacities. Besides you must answer the human only in {language}.'), additional_kwargs={}), MessagesPlaceholder(variable_name='messages')])"
      ]
     },
     "execution_count": 25,
     "metadata": {},
     "output_type": "execute_result"
    }
   ],
   "source": [
    "prompt"
   ]
  },
  {
   "cell_type": "code",
   "execution_count": 26,
   "id": "160296db",
   "metadata": {},
   "outputs": [
    {
     "name": "stdout",
     "output_type": "stream",
     "text": [
      "Seu nome é Bob. 😊\n"
     ]
    }
   ],
   "source": [
    "response = with_message_history.invoke(\n",
    "    dict(messages=messages + [HumanMessage(content=\"What is my name?\")], language=\"Portuguese\"),\n",
    "    config={\"configurable\": {\"session_id\": \"chat5\"}}\n",
    ")\n",
    "print(response.content)"
   ]
  },
  {
   "cell_type": "code",
   "execution_count": null,
   "id": "6f532906",
   "metadata": {},
   "outputs": [],
   "source": []
  },
  {
   "cell_type": "code",
   "execution_count": null,
   "id": "b628f763",
   "metadata": {},
   "outputs": [],
   "source": []
  }
 ],
 "metadata": {
  "kernelspec": {
   "display_name": "agentic-ai-pg",
   "language": "python",
   "name": "python3"
  },
  "language_info": {
   "codemirror_mode": {
    "name": "ipython",
    "version": 3
   },
   "file_extension": ".py",
   "mimetype": "text/x-python",
   "name": "python",
   "nbconvert_exporter": "python",
   "pygments_lexer": "ipython3",
   "version": "3.13.5"
  }
 },
 "nbformat": 4,
 "nbformat_minor": 5
}
