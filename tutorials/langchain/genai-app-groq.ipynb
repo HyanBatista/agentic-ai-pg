{
 "cells": [
  {
   "cell_type": "code",
   "execution_count": 9,
   "id": "23414810",
   "metadata": {},
   "outputs": [],
   "source": [
    "from langchain_core.messages import HumanMessage, SystemMessage\n",
    "from langchain_core.output_parsers import StrOutputParser\n",
    "from langchain_core.prompts import ChatPromptTemplate\n",
    "from langchain_groq import ChatGroq"
   ]
  },
  {
   "cell_type": "code",
   "execution_count": 2,
   "id": "c4b6f254",
   "metadata": {},
   "outputs": [],
   "source": [
    "model = ChatGroq(model=\"gemma2-9b-it\")"
   ]
  },
  {
   "cell_type": "code",
   "execution_count": 4,
   "id": "f5f293fb",
   "metadata": {},
   "outputs": [],
   "source": [
    "messages = [\n",
    "    SystemMessage(content=\"Translate the following from English to French\"),\n",
    "    HumanMessage(content=\"Hello, how are you?\")\n",
    "]\n",
    "\n",
    "result = model.invoke(messages)"
   ]
  },
  {
   "cell_type": "code",
   "execution_count": 7,
   "id": "046ac9fb",
   "metadata": {},
   "outputs": [
    {
     "data": {
      "text/plain": [
       "\"Bonjour, comment allez-vous ? \\n\\n\\nYou can also use these options:\\n\\n\\n* **Salut, ça va ?** (Informal)\\n* **Comment vas-tu ?** (Informal, singular)\\n\\n\\n\\n\\nLet me know if you have any other phrases you'd like me to translate!\\n\""
      ]
     },
     "execution_count": 7,
     "metadata": {},
     "output_type": "execute_result"
    }
   ],
   "source": [
    "parser = StrOutputParser()\n",
    "parser.invoke(result)"
   ]
  },
  {
   "cell_type": "code",
   "execution_count": 8,
   "id": "c3f3a75f",
   "metadata": {},
   "outputs": [
    {
     "data": {
      "text/plain": [
       "'Bonjour, comment allez-vous ? \\n'"
      ]
     },
     "execution_count": 8,
     "metadata": {},
     "output_type": "execute_result"
    }
   ],
   "source": [
    "chain = model | parser\n",
    "chain.invoke(messages)"
   ]
  },
  {
   "cell_type": "code",
   "execution_count": 15,
   "id": "2c2c8a21",
   "metadata": {},
   "outputs": [],
   "source": [
    "template = ChatPromptTemplate.from_messages(\n",
    "    [\n",
    "        (\"system\", \"Translate the following into {language}:\"),\n",
    "        (\"user\", \"{text}\"),\n",
    "    ]\n",
    ")"
   ]
  },
  {
   "cell_type": "code",
   "execution_count": 20,
   "id": "2c9150d1",
   "metadata": {},
   "outputs": [],
   "source": [
    "result = template.invoke(\n",
    "    {\n",
    "        \"language\": \"French\",\n",
    "        \"text\": \"Hello, there!\",\n",
    "    }\n",
    ")"
   ]
  },
  {
   "cell_type": "code",
   "execution_count": 21,
   "id": "04e8d898",
   "metadata": {},
   "outputs": [
    {
     "data": {
      "text/plain": [
       "[SystemMessage(content='Translate the following into French:', additional_kwargs={}, response_metadata={}),\n",
       " HumanMessage(content='Hello, there!', additional_kwargs={}, response_metadata={})]"
      ]
     },
     "execution_count": 21,
     "metadata": {},
     "output_type": "execute_result"
    }
   ],
   "source": [
    "result.to_messages()"
   ]
  },
  {
   "cell_type": "code",
   "execution_count": 22,
   "id": "6742a03a",
   "metadata": {},
   "outputs": [],
   "source": [
    "chain = template | model | parser"
   ]
  },
  {
   "cell_type": "code",
   "execution_count": 24,
   "id": "a97b4e69",
   "metadata": {},
   "outputs": [],
   "source": [
    "result = chain.invoke({\"language\": \"French\", \"text\": \"Hello, there!\"})"
   ]
  },
  {
   "cell_type": "code",
   "execution_count": 25,
   "id": "d7222a0a",
   "metadata": {},
   "outputs": [
    {
     "name": "stdout",
     "output_type": "stream",
     "text": [
      "There are a few ways to translate \"Hello, there!\" into French, depending on the level of formality and regional dialect:\n",
      "\n",
      "**Formal:**\n",
      "\n",
      "* **Bonjour !** (This is the most common and universally understood greeting)\n",
      "\n",
      "**Informal:**\n",
      "\n",
      "* **Salut !** (This is a more casual greeting, used with friends and family)\n",
      "* **Coucou !** (This is a very informal and playful greeting, often used with children)\n",
      "* **Hé !** (This is a very casual greeting, similar to \"Hey!\")\n",
      "\n",
      "The best choice will depend on the context. \n",
      "\n",
      "\n",
      "\n",
      "\n"
     ]
    }
   ],
   "source": [
    "print(result)"
   ]
  }
 ],
 "metadata": {
  "kernelspec": {
   "display_name": "agentic-ai-pg",
   "language": "python",
   "name": "python3"
  },
  "language_info": {
   "codemirror_mode": {
    "name": "ipython",
    "version": 3
   },
   "file_extension": ".py",
   "mimetype": "text/x-python",
   "name": "python",
   "nbconvert_exporter": "python",
   "pygments_lexer": "ipython3",
   "version": "3.13.5"
  }
 },
 "nbformat": 4,
 "nbformat_minor": 5
}
