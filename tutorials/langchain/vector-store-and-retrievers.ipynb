{
 "cells": [
  {
   "cell_type": "code",
   "execution_count": 11,
   "id": "ec0fc6e3",
   "metadata": {},
   "outputs": [],
   "source": [
    "from operator import itemgetter\n",
    "\n",
    "import bs4\n",
    "from langchain_chroma import Chroma\n",
    "from langchain_community.document_loaders import WebBaseLoader\n",
    "from langchain_core.chat_history import InMemoryChatMessageHistory\n",
    "from langchain_core.documents import Document\n",
    "from langchain_core.messages import (\n",
    "    AIMessage,\n",
    "    HumanMessage,\n",
    "    SystemMessage,\n",
    "    trim_messages,\n",
    ")\n",
    "from langchain_core.prompts import ChatPromptTemplate, MessagesPlaceholder\n",
    "from langchain_core.runnables import RunnableLambda, RunnablePassthrough\n",
    "from langchain_core.runnables.history import RunnableWithMessageHistory\n",
    "from langchain_huggingface import HuggingFaceEmbeddings\n",
    "from langchain_ollama.chat_models import ChatOllama\n",
    "from langchain_text_splitters import RecursiveCharacterTextSplitter"
   ]
  },
  {
   "cell_type": "code",
   "execution_count": 12,
   "id": "30a91279",
   "metadata": {},
   "outputs": [],
   "source": [
    "embedding = HuggingFaceEmbeddings(model_name=\"all-MiniLM-L6-v2\")\n",
    "model = ChatOllama(model=\"gemma3\")"
   ]
  },
  {
   "cell_type": "code",
   "execution_count": 13,
   "id": "66fb1f0c",
   "metadata": {},
   "outputs": [],
   "source": [
    "documents = RecursiveCharacterTextSplitter(\n",
    "    chunk_size=500,\n",
    "    chunk_overlap=50,\n",
    ").split_documents(\n",
    "    WebBaseLoader(\n",
    "        web_paths=[\n",
    "            \"https://lilianweng.github.io/posts/2023-06-23-agent/\",\n",
    "        ],\n",
    "        bs_kwargs=dict(\n",
    "            parse_only=bs4.SoupStrainer(\n",
    "                class_=(\n",
    "                    \"post-title\",\n",
    "                    \"post-content\",\n",
    "                    \"post-header\",\n",
    "                )\n",
    "            )\n",
    "        ),\n",
    "    ).load()\n",
    ")\n",
    "vector_store = Chroma.from_documents(documents, embedding)"
   ]
  },
  {
   "cell_type": "code",
   "execution_count": 14,
   "id": "97be8ef6",
   "metadata": {},
   "outputs": [
    {
     "data": {
      "text/plain": [
       "[Document(id='57a02020-af67-448b-9790-41ec50ee521e', metadata={'source': 'https://lilianweng.github.io/posts/2023-06-23-agent/'}, page_content=\"Planning is essentially in order to optimize believability at the moment vs in time.\\nPrompt template: {Intro of an agent X}. Here is X's plan today in broad strokes: 1)\\nRelationships between agents and observations of one agent by another are all taken into consideration for planning and reacting.\\nEnvironment information is present in a tree structure.\\n\\n\\n\\n\\n\\nThe generative agent architecture. (Image source: Park et al. 2023)\"),\n",
       " Document(id='b743a65d-2a4e-4756-86a3-9812e01353d6', metadata={'source': 'https://lilianweng.github.io/posts/2023-06-23-agent/'}, page_content=\"Planning is essentially in order to optimize believability at the moment vs in time.\\nPrompt template: {Intro of an agent X}. Here is X's plan today in broad strokes: 1)\\nRelationships between agents and observations of one agent by another are all taken into consideration for planning and reacting.\\nEnvironment information is present in a tree structure.\\n\\n\\n\\n\\n\\nThe generative agent architecture. (Image source: Park et al. 2023)\"),\n",
       " Document(id='1342e8f6-72a8-4b9d-bcf7-ed92fe56d0b7', metadata={'source': 'https://lilianweng.github.io/posts/2023-06-23-agent/'}, page_content='Building agents with LLM (large language model) as its core controller is a cool concept. Several proof-of-concepts demos, such as AutoGPT, GPT-Engineer and BabyAGI, serve as inspiring examples. The potentiality of LLM extends beyond generating well-written copies, stories, essays and programs; it can be framed as a powerful general problem solver.\\nAgent System Overview#\\nIn a LLM-powered autonomous agent system, LLM functions as the agent’s brain, complemented by several key components:'),\n",
       " Document(id='a12fdac1-99c4-4ccb-a40e-40537a859942', metadata={'source': 'https://lilianweng.github.io/posts/2023-06-23-agent/'}, page_content='Building agents with LLM (large language model) as its core controller is a cool concept. Several proof-of-concepts demos, such as AutoGPT, GPT-Engineer and BabyAGI, serve as inspiring examples. The potentiality of LLM extends beyond generating well-written copies, stories, essays and programs; it can be framed as a powerful general problem solver.\\nAgent System Overview#\\nIn a LLM-powered autonomous agent system, LLM functions as the agent’s brain, complemented by several key components:')]"
      ]
     },
     "execution_count": 14,
     "metadata": {},
     "output_type": "execute_result"
    }
   ],
   "source": [
    "vector_store.similarity_search(query=\"What is an agent system?\")"
   ]
  },
  {
   "cell_type": "code",
   "execution_count": 15,
   "id": "a6690ef9",
   "metadata": {},
   "outputs": [
    {
     "data": {
      "text/plain": [
       "[[Document(id='1342e8f6-72a8-4b9d-bcf7-ed92fe56d0b7', metadata={'source': 'https://lilianweng.github.io/posts/2023-06-23-agent/'}, page_content='Building agents with LLM (large language model) as its core controller is a cool concept. Several proof-of-concepts demos, such as AutoGPT, GPT-Engineer and BabyAGI, serve as inspiring examples. The potentiality of LLM extends beyond generating well-written copies, stories, essays and programs; it can be framed as a powerful general problem solver.\\nAgent System Overview#\\nIn a LLM-powered autonomous agent system, LLM functions as the agent’s brain, complemented by several key components:')],\n",
       " [Document(id='f3cfabce-40e9-40ba-ae2a-43f8319dd7d1', metadata={'source': 'https://lilianweng.github.io/posts/2023-06-23-agent/'}, page_content='are a large number of APIs, LLM first has access to API search engine to find the right API to call and then uses the corresponding documentation to make a call.')]]"
      ]
     },
     "execution_count": 15,
     "metadata": {},
     "output_type": "execute_result"
    }
   ],
   "source": [
    "retriever = RunnableLambda(vector_store.similarity_search).bind(k=1)\n",
    "retriever.batch([\"agent system\", \"llm\"])"
   ]
  },
  {
   "cell_type": "code",
   "execution_count": 16,
   "id": "ef6f4380",
   "metadata": {},
   "outputs": [
    {
     "data": {
      "text/plain": [
       "[[Document(id='1342e8f6-72a8-4b9d-bcf7-ed92fe56d0b7', metadata={'source': 'https://lilianweng.github.io/posts/2023-06-23-agent/'}, page_content='Building agents with LLM (large language model) as its core controller is a cool concept. Several proof-of-concepts demos, such as AutoGPT, GPT-Engineer and BabyAGI, serve as inspiring examples. The potentiality of LLM extends beyond generating well-written copies, stories, essays and programs; it can be framed as a powerful general problem solver.\\nAgent System Overview#\\nIn a LLM-powered autonomous agent system, LLM functions as the agent’s brain, complemented by several key components:')],\n",
       " [Document(id='f3cfabce-40e9-40ba-ae2a-43f8319dd7d1', metadata={'source': 'https://lilianweng.github.io/posts/2023-06-23-agent/'}, page_content='are a large number of APIs, LLM first has access to API search engine to find the right API to call and then uses the corresponding documentation to make a call.')]]"
      ]
     },
     "execution_count": 16,
     "metadata": {},
     "output_type": "execute_result"
    }
   ],
   "source": [
    "retriever = vector_store.as_retriever(\n",
    "    search_type=\"similarity\",\n",
    "    search_kwargs=dict(k=1),\n",
    ")\n",
    "retriever.batch([\"agent\", \"llm\"])"
   ]
  },
  {
   "cell_type": "code",
   "execution_count": 17,
   "id": "51d73558",
   "metadata": {},
   "outputs": [],
   "source": [
    "message = \"\"\"\"\n",
    "Answer this question using the provided context only.\n",
    "\n",
    "{question}\n",
    "\n",
    "Context:\n",
    "\n",
    "{context}\n",
    "\"\"\"\n",
    "\n",
    "prompt = ChatPromptTemplate.from_messages([\"human\", message])\n",
    "rag_chain = dict(context=retriever, question=RunnablePassthrough()) | prompt | model"
   ]
  },
  {
   "cell_type": "code",
   "execution_count": 18,
   "id": "a859b281",
   "metadata": {},
   "outputs": [
    {
     "data": {
      "text/plain": [
       "AIMessage(content='According to the text, an agent system takes into consideration relationships between agents and observations of one agent by another, along with environment information presented in a tree structure, for planning and reacting.', additional_kwargs={}, response_metadata={'model': 'gemma3', 'created_at': '2025-07-10T21:04:01.483116Z', 'done': True, 'done_reason': 'stop', 'total_duration': 4392271125, 'load_duration': 2200680500, 'prompt_eval_count': 212, 'prompt_eval_duration': 1257978625, 'eval_count': 38, 'eval_duration': 892116833, 'model_name': 'gemma3'}, id='run--2ef28540-c116-4458-93b4-ed01335ec1d6-0', usage_metadata={'input_tokens': 212, 'output_tokens': 38, 'total_tokens': 250})"
      ]
     },
     "execution_count": 18,
     "metadata": {},
     "output_type": "execute_result"
    }
   ],
   "source": [
    "rag_chain.invoke(\"What is an agent system?\")"
   ]
  },
  {
   "cell_type": "code",
   "execution_count": 20,
   "id": "3e76b091",
   "metadata": {},
   "outputs": [
    {
     "name": "stdout",
     "output_type": "stream",
     "text": [
      "The context doesn't explicitly define the difference between “AI agents” and “agentic AI.” It describes a planning process within an “agent” which involves optimizing believability, considering relationships between agents and observations, and using a tree structure for environment information.\n"
     ]
    }
   ],
   "source": [
    "result = rag_chain.invoke(\"What is the difference between ai agents and agentic ai?\")\n",
    "print(result.content)"
   ]
  }
 ],
 "metadata": {
  "kernelspec": {
   "display_name": "agentic-ai-pg",
   "language": "python",
   "name": "python3"
  },
  "language_info": {
   "codemirror_mode": {
    "name": "ipython",
    "version": 3
   },
   "file_extension": ".py",
   "mimetype": "text/x-python",
   "name": "python",
   "nbconvert_exporter": "python",
   "pygments_lexer": "ipython3",
   "version": "3.13.5"
  }
 },
 "nbformat": 4,
 "nbformat_minor": 5
}
