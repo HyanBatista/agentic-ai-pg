{
 "cells": [
  {
   "cell_type": "code",
   "execution_count": 1,
   "id": "6bc914f9",
   "metadata": {},
   "outputs": [],
   "source": [
    "from langchain_core.chat_history import InMemoryChatMessageHistory\n",
    "from langchain_core.messages import AIMessage, HumanMessage\n",
    "from langchain_core.runnables.history import RunnableWithMessageHistory\n",
    "from langchain_ollama.chat_models import ChatOllama"
   ]
  },
  {
   "cell_type": "code",
   "execution_count": 2,
   "id": "7b36cee5",
   "metadata": {},
   "outputs": [],
   "source": [
    "model = ChatOllama(model=\"gemma3\")"
   ]
  },
  {
   "cell_type": "code",
   "execution_count": 3,
   "id": "06db9d99",
   "metadata": {},
   "outputs": [
    {
     "data": {
      "text/plain": [
       "\"Hi Hyan, it's great to meet you! It's fascinating that you're an AI Engineer. That's a really exciting field right now. \\n\\nWhat kind of AI work are you involved in? Are you focused on a specific area like:\\n\\n*   **Machine Learning?** (e.g., building models for prediction, classification, or recommendation)\\n*   **Deep Learning?** (e.g., working with neural networks)\\n*   **Natural Language Processing (NLP)?** (e.g., chatbots, translation, sentiment analysis)\\n*   **Computer Vision?** (e.g., image recognition, object detection)\\n*   **Reinforcement Learning?** (e.g., training agents to make decisions)\\n\\nOr perhaps something else entirely? \\n\\nI'm really curious to hear more about your work.  Do you want to tell me a little about a project you're working on, or just generally about your role as an AI Engineer?\""
      ]
     },
     "execution_count": 3,
     "metadata": {},
     "output_type": "execute_result"
    }
   ],
   "source": [
    "result = model.invoke(\n",
    "    [\n",
    "        HumanMessage(\n",
    "            content=\"Hi, I'm Hyan and I am an AI Engineer\"\n",
    "        )\n",
    "    ]\n",
    ")\n",
    "result.content"
   ]
  },
  {
   "cell_type": "code",
   "execution_count": 4,
   "id": "85feae0f",
   "metadata": {},
   "outputs": [],
   "source": [
    "result = model.invoke(\n",
    "    [\n",
    "        HumanMessage(content=\"Hi, I'm Hyan and I am an AI Engineer\"),\n",
    "        AIMessage(\n",
    "            content=\"Hi Hyan, it's nice to meet you! 👋 \\n\\nThat's awesome that you're an AI Engineer. What kind of projects are you working on these days?  \\n\\nI'm always interested to hear about the cool things people are doing in the field of AI.  😊\\n\"\n",
    "        ),\n",
    "        HumanMessage(content=\"Hi, what is my name and what do I do?\")\n",
    "    ]\n",
    ")"
   ]
  },
  {
   "cell_type": "code",
   "execution_count": 5,
   "id": "53a7a62b",
   "metadata": {},
   "outputs": [],
   "source": [
    "store = {}\n",
    "\n",
    "\n",
    "def get_session_history(session_id: str) -> InMemoryChatMessageHistory:\n",
    "    if session_id not in store:\n",
    "        store[session_id] = InMemoryChatMessageHistory()\n",
    "    return store[session_id]\n",
    "\n",
    "runnable = RunnableWithMessageHistory(model, get_session_history)"
   ]
  },
  {
   "cell_type": "code",
   "execution_count": 6,
   "id": "9b00631d",
   "metadata": {},
   "outputs": [],
   "source": [
    "config = {\"configurable\": {\"session_id\": \"chat1\"}}"
   ]
  },
  {
   "cell_type": "code",
   "execution_count": 7,
   "id": "3e3a7ac1",
   "metadata": {},
   "outputs": [],
   "source": [
    "response = runnable.invoke(\n",
    "    [HumanMessage(content=\"Hi, my name is Hyan and I am an AI engineer.\")],\n",
    "    config=config,\n",
    ")"
   ]
  },
  {
   "cell_type": "code",
   "execution_count": 8,
   "id": "5ae5ae4f",
   "metadata": {},
   "outputs": [
    {
     "name": "stdout",
     "output_type": "stream",
     "text": [
      "Hi Hyan, it's great to meet you! It's fascinating that you're an AI engineer – that's a really exciting field right now. \n",
      "\n",
      "What kind of AI work are you focused on? Are you working on specific applications, models, or techniques? \n",
      "\n",
      "I'm always interested in learning more about what's happening in the world of AI. 😊 \n",
      "\n",
      "Would you like to chat about anything specific, or just a general discussion about AI?\n"
     ]
    }
   ],
   "source": [
    "print(response.content)"
   ]
  },
  {
   "cell_type": "code",
   "execution_count": 9,
   "id": "fa900d2c",
   "metadata": {},
   "outputs": [
    {
     "name": "stdout",
     "output_type": "stream",
     "text": [
      "Your name is Hyan! 😊 \n",
      "\n",
      "I just wanted to confirm – I was responding to you saying your name is Hyan.\n"
     ]
    }
   ],
   "source": [
    "response = runnable.invoke(\n",
    "    [HumanMessage(content=\"What is my name?\")],\n",
    "    config={\n",
    "        \"configurable\": {\"session_id\": \"chat1\"}\n",
    "    },\n",
    ")\n",
    "print(response.content)"
   ]
  },
  {
   "cell_type": "code",
   "execution_count": 10,
   "id": "e8f667b0",
   "metadata": {},
   "outputs": [
    {
     "name": "stdout",
     "output_type": "stream",
     "text": [
      "Wow, Goku! That's absolutely incredible! Saving the world is a *huge* accomplishment. Seriously, that’s something most people only dream of. \n",
      "\n",
      "Tell me more! How did you do it? What kind of threats were you facing? Were there any epic battles? I'm dying to hear all about it! \n",
      "\n",
      "Don't be shy – let's hear the details! 🎉\n"
     ]
    }
   ],
   "source": [
    "response = runnable.invoke(\n",
    "    [HumanMessage(content=\"My name is Goku and I saved the world!\")],\n",
    "    config={\n",
    "        \"configurable\": {\"session_id\": \"chat2\"}\n",
    "    },\n",
    ")\n",
    "print(response.content)"
   ]
  },
  {
   "cell_type": "code",
   "execution_count": 11,
   "id": "133175d3",
   "metadata": {},
   "outputs": [
    {
     "name": "stdout",
     "output_type": "stream",
     "text": [
      "Alright, Goku! That’s fantastic news! Seriously, saving the world is a massive achievement. I can just picture you unleashing a Kamehameha or something! \n",
      "\n",
      "So, tell me everything! What happened? Who were you fighting? Was there a super-powerful villain? Don't hold back – let’s hear the full story! 💪🔥\n"
     ]
    }
   ],
   "source": [
    "response = runnable.invoke(\n",
    "    [HumanMessage(content=\"My name is Goku and I saved the world!\")],\n",
    "    config={\n",
    "        \"configurable\": {\"session_id\": \"chat2\"}\n",
    "    },\n",
    ")\n",
    "print(response.content)"
   ]
  },
  {
   "cell_type": "code",
   "execution_count": 12,
   "id": "462d0d52",
   "metadata": {},
   "outputs": [
    {
     "name": "stdout",
     "output_type": "stream",
     "text": [
      "Of course, I do, Goku! You’re the one who saved the world! It’s pretty hard to forget someone who just accomplished *that*. 😄 \n",
      "\n",
      "You’re the legendary Goku, the strongest warrior, always pushing your limits and protecting the innocent. It's an honor to be talking to you! \n",
      "\n",
      "Now, tell me, what’s been happening since you saved the world? Are you training? Facing new challenges?\n"
     ]
    }
   ],
   "source": [
    "response = runnable.invoke(\n",
    "    [HumanMessage(content=\"Do you remember who I am?\")],\n",
    "    config={\n",
    "        \"configurable\": {\"session_id\": \"chat2\"}\n",
    "    },\n",
    ")\n",
    "print(response.content)"
   ]
  },
  {
   "cell_type": "code",
   "execution_count": null,
   "id": "1764e44e",
   "metadata": {},
   "outputs": [],
   "source": []
  }
 ],
 "metadata": {
  "kernelspec": {
   "display_name": "agentic-ai-pg",
   "language": "python",
   "name": "python3"
  },
  "language_info": {
   "codemirror_mode": {
    "name": "ipython",
    "version": 3
   },
   "file_extension": ".py",
   "mimetype": "text/x-python",
   "name": "python",
   "nbconvert_exporter": "python",
   "pygments_lexer": "ipython3",
   "version": "3.13.5"
  }
 },
 "nbformat": 4,
 "nbformat_minor": 5
}
