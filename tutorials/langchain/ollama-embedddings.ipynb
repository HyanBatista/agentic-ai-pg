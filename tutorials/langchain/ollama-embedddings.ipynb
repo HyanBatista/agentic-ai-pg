{
 "cells": [
  {
   "cell_type": "code",
   "execution_count": 11,
   "id": "86aa7d35",
   "metadata": {},
   "outputs": [],
   "source": [
    "from langchain.embeddings import OllamaEmbeddings\n",
    "\n",
    "\n",
    "embeddings = dict(\n",
    "    llama3=OllamaEmbeddings(model=\"llama3\"),\n",
    ")"
   ]
  },
  {
   "cell_type": "code",
   "execution_count": 12,
   "id": "d6bd1461",
   "metadata": {},
   "outputs": [],
   "source": [
    "texts = [\n",
    "    \"My dog is called Nicolau\",\n",
    "    \"My cat is called Harry\",\n",
    "]\n",
    "\n",
    "r1 = embeddings[\"llama3\"].embed_documents(texts)"
   ]
  },
  {
   "cell_type": "code",
   "execution_count": null,
   "id": "dacc288f",
   "metadata": {},
   "outputs": [],
   "source": [
    "embedded_query = embeddings[\"llama3\"].embed_query(\"What is the name of my cat?\")"
   ]
  },
  {
   "cell_type": "code",
   "execution_count": 14,
   "id": "3b6df987",
   "metadata": {},
   "outputs": [
    {
     "data": {
      "text/plain": [
       "<langchain_community.vectorstores.chroma.Chroma at 0x12581d550>"
      ]
     },
     "execution_count": 14,
     "metadata": {},
     "output_type": "execute_result"
    }
   ],
   "source": [
    "from langchain.vectorstores.chroma import Chroma\n",
    "\n",
    "db = Chroma.from_texts(texts, embeddings[\"llama3\"])\n",
    "db"
   ]
  },
  {
   "cell_type": "code",
   "execution_count": 18,
   "id": "dd16558f",
   "metadata": {},
   "outputs": [
    {
     "data": {
      "text/plain": [
       "[Document(metadata={}, page_content='My cat is called Harry')]"
      ]
     },
     "execution_count": 18,
     "metadata": {},
     "output_type": "execute_result"
    }
   ],
   "source": [
    "db.similarity_search(query=\"What is the name of my cat?\", k=1)"
   ]
  },
  {
   "cell_type": "code",
   "execution_count": null,
   "id": "79cbda27",
   "metadata": {},
   "outputs": [],
   "source": []
  }
 ],
 "metadata": {
  "kernelspec": {
   "display_name": "agentic-ai-pg",
   "language": "python",
   "name": "python3"
  },
  "language_info": {
   "codemirror_mode": {
    "name": "ipython",
    "version": 3
   },
   "file_extension": ".py",
   "mimetype": "text/x-python",
   "name": "python",
   "nbconvert_exporter": "python",
   "pygments_lexer": "ipython3",
   "version": "3.13.5"
  }
 },
 "nbformat": 4,
 "nbformat_minor": 5
}
