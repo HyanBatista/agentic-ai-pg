{
 "cells": [
  {
   "cell_type": "code",
   "execution_count": 1,
   "id": "721cc47e",
   "metadata": {},
   "outputs": [],
   "source": [
    "from typing import Literal, Optional, TypeAlias, Union, cast\n",
    "\n",
    "from IPython.display import Image, display\n",
    "from langchain import hub\n",
    "from langchain.text_splitter import RecursiveCharacterTextSplitter\n",
    "from langchain_community.document_loaders import WebBaseLoader\n",
    "from langchain_community.vectorstores.faiss import FAISS\n",
    "from langchain_core.documents import Document\n",
    "from langchain_core.messages import HumanMessage\n",
    "from langchain_core.output_parsers import StrOutputParser\n",
    "from langchain_core.prompts import ChatPromptTemplate\n",
    "from langchain_ollama import ChatOllama\n",
    "from langchain_openai import OpenAIEmbeddings\n",
    "from langchain_tavily import TavilySearch\n",
    "from langgraph.graph import END, START, StateGraph\n",
    "from pydantic import BaseModel, Field"
   ]
  },
  {
   "cell_type": "code",
   "execution_count": 2,
   "id": "1ed6c68d",
   "metadata": {},
   "outputs": [],
   "source": [
    "llm = ChatOllama(model=\"qwen2.5\")"
   ]
  },
  {
   "cell_type": "code",
   "execution_count": null,
   "id": "bd2f934d",
   "metadata": {},
   "outputs": [],
   "source": [
    "urls = [\n",
    "    \"https://lilianweng.github.io/posts/2023-06-23-agent/\",\n",
    "    \"https://lilianweng.github.io/posts/2023-03-15-prompt-engineering/\",\n",
    "    \"https://lilianweng.github.io/posts/2023-10-25-adv-attack-llm/\",\n",
    "]\n",
    "\n",
    "docs_list = [WebBaseLoader(url).load() for url in urls]\n",
    "docs = [doc for sublist in docs_list for doc in sublist]\n",
    "\n",
    "text_splitter = RecursiveCharacterTextSplitter.from_tiktoken_encoder(\n",
    "    chunk_size=100, chunk_overlap=20\n",
    ")\n",
    "doc_splits = text_splitter.split_documents(docs)\n",
    "\n",
    "vector_store = FAISS.from_documents(doc_splits, OpenAIEmbeddings())\n",
    "retriever = vector_store.as_retriever()"
   ]
  },
  {
   "cell_type": "code",
   "execution_count": 4,
   "id": "ccae7fac",
   "metadata": {},
   "outputs": [],
   "source": [
    "system_msg = \"\"\"\n",
    "You are a grader assessing relevance of a retrieved document to a user question. \\n\n",
    "If the document contains keywords(s) or semantic meaning related to the question, grade it as relevant. \\n\n",
    "Give it a binary score 'yes' or 'no'. 'yes' to indicate that the document is relevant to the question, and 'no', \n",
    "otherwise.\n",
    "\"\"\"\n",
    "\n",
    "grade_prompt = ChatPromptTemplate.from_messages(\n",
    "    [\n",
    "        (\"system\", system_msg),\n",
    "        (\"human\", \"Retrieved document: \\n\\n {document} \\n\\n User question: {question}\"),\n",
    "    ]\n",
    ")"
   ]
  },
  {
   "cell_type": "code",
   "execution_count": 5,
   "id": "4d1bf9b5",
   "metadata": {},
   "outputs": [],
   "source": [
    "DocumentGradeT: TypeAlias = Literal[\"yes\", \"no\"]\n",
    "\n",
    "\n",
    "class DocumentGrade(BaseModel):\n",
    "    \"\"\"Binary score for relevance check on retrieved documents\"\"\"\n",
    "\n",
    "    score: DocumentGradeT = Field(\n",
    "        description=\"Documents are relevant to the question, 'yes' or 'no'?\"\n",
    "    )"
   ]
  },
  {
   "cell_type": "code",
   "execution_count": 6,
   "id": "df058fd1",
   "metadata": {},
   "outputs": [
    {
     "name": "stdout",
     "output_type": "stream",
     "text": [
      "score='yes'\n"
     ]
    }
   ],
   "source": [
    "structured_grade_retriever = llm.with_structured_output(DocumentGrade)\n",
    "workflow = grade_prompt | structured_grade_retriever\n",
    "question = \"prompt engineering\"\n",
    "docs = retriever.invoke(question)\n",
    "doc_txt = docs[0].page_content\n",
    "print(workflow.invoke({\"question\": question, \"document\": doc_txt}))"
   ]
  },
  {
   "cell_type": "code",
   "execution_count": 7,
   "id": "47156bf6",
   "metadata": {},
   "outputs": [
    {
     "name": "stdout",
     "output_type": "stream",
     "text": [
      "Prompt Engineering, also known as In-Context Prompting, refers to methods for communicating with language models to steer their behavior towards desired outcomes without updating the model weights. It is an empirical science that requires heavy experimentation and heuristics due to varying effects among different models.\n"
     ]
    }
   ],
   "source": [
    "prompt: ChatPromptTemplate = hub.pull(\"rlm/rag-prompt\")\n",
    "\n",
    "\n",
    "def format_docs(docs: list[Document]) -> str:\n",
    "    return \"\\n\\n\".join(doc.page_content for doc in docs)\n",
    "\n",
    "\n",
    "rag_workflow = prompt | llm | StrOutputParser()\n",
    "\n",
    "generation = rag_workflow.invoke({\"context\": docs, \"question\": question})\n",
    "print(generation)"
   ]
  },
  {
   "cell_type": "code",
   "execution_count": 8,
   "id": "3305727a",
   "metadata": {},
   "outputs": [
    {
     "data": {
      "text/plain": [
       "'What is prompt engineering and its applications?'"
      ]
     },
     "execution_count": 8,
     "metadata": {},
     "output_type": "execute_result"
    }
   ],
   "source": [
    "system_msg = \"\"\"\n",
    "You are a question re-writer that converts an input question into a better version that is optimized \\n\n",
    "for web search. Look at the input and try to reason about the underlying semantic intent / meaning. Answer directly, \n",
    "only with the new question, nothing more.\n",
    "\"\"\"\n",
    "\n",
    "rewrite_prompt = ChatPromptTemplate.from_messages(\n",
    "    [\n",
    "        (\"system\", system_msg),\n",
    "        (\n",
    "            \"human\",\n",
    "            \"Here is the initial question: \\n\\n {question} \\n Formulate an improved question.\",\n",
    "        ),\n",
    "    ]\n",
    ")\n",
    "\n",
    "question_rewriter = rewrite_prompt | llm | StrOutputParser()\n",
    "question_rewriter.invoke({\"question\": question})"
   ]
  },
  {
   "cell_type": "code",
   "execution_count": 9,
   "id": "995c25a2",
   "metadata": {},
   "outputs": [],
   "source": [
    "search_tool = TavilySearch(max_results=3)"
   ]
  },
  {
   "cell_type": "code",
   "execution_count": 14,
   "id": "286856ff",
   "metadata": {},
   "outputs": [],
   "source": [
    "class State(BaseModel):\n",
    "    question: str\n",
    "    web_search: bool = False\n",
    "    generated: Optional[str] = None\n",
    "    documents: Optional[list[Document]] = None"
   ]
  },
  {
   "cell_type": "code",
   "execution_count": 15,
   "id": "0fea0f49",
   "metadata": {},
   "outputs": [],
   "source": [
    "class Retriever:\n",
    "    def __init__(self, vector_store: FAISS):\n",
    "        self.vector_store = vector_store\n",
    "        self.retriever = vector_store.as_retriever()\n",
    "\n",
    "    def __call__(self, state: State):\n",
    "        print(\"------ RETRIEVING DOCUMENTS ------\")\n",
    "        documents = self.retriever.invoke(state.question)\n",
    "        return {\"documents\": documents, \"question\": state.question}\n",
    "\n",
    "\n",
    "class Generator:\n",
    "    def __init__(self, llm: ChatOllama, prompt: ChatPromptTemplate):\n",
    "        self._llm = llm\n",
    "        self._prompt = prompt\n",
    "        self._workflow = self._prompt | self._llm | StrOutputParser()\n",
    "\n",
    "    @property\n",
    "    def workflow(self):\n",
    "        return self._workflow\n",
    "\n",
    "    @workflow.setter\n",
    "    def workflow(self, workflow):\n",
    "        self._workflow = workflow\n",
    "\n",
    "    def __call__(self, state: State) -> dict[str, Union[str, list[Document], None]]:\n",
    "        print(\"------ GENERATING ANSWER ------\")\n",
    "        if state.documents is not None:\n",
    "            generated = self.workflow.invoke(\n",
    "                {\n",
    "                    \"context\": state.documents,\n",
    "                    \"question\": state.question,\n",
    "                }\n",
    "            )\n",
    "            return {\n",
    "                \"documents\": state.documents,\n",
    "                \"question\": state.question,\n",
    "                \"generated\": generated,\n",
    "            }\n",
    "        else:\n",
    "            print(\"No documents to generate from.\")\n",
    "            return {\n",
    "                \"documents\": [],\n",
    "                \"question\": state.question,\n",
    "                \"generated\": None,\n",
    "            }\n",
    "\n",
    "\n",
    "class DocumentGrader:\n",
    "    system_msg = \"\"\"\n",
    "    You are an agent responsible for deciding whether a retrieved document should be used to generate a response to a user's question. \\n\\n\n",
    "    Evaluate the document for relevance by considering both keywords and semantic meaning in relation to the user's question. \\n\n",
    "    Provide a binary decision: respond with 'yes' if the document should be used, or 'no' if it should not.\n",
    "    \"\"\"\n",
    "\n",
    "    def __init__(self, llm: ChatOllama, output_model: type[DocumentGrade]):\n",
    "        self._llm = llm.with_structured_output(output_model)\n",
    "        self._prompt = ChatPromptTemplate.from_messages(\n",
    "            [\n",
    "                (\"system\", self.system_msg),\n",
    "                (\n",
    "                    \"human\",\n",
    "                    \"Retrieved document: \\n\\n {document} \\n\\n User question: {question}\",\n",
    "                ),\n",
    "            ]\n",
    "        )\n",
    "        self._workflow = self._prompt | self._llm\n",
    "\n",
    "    def __call__(self, state: State) -> dict[str, Union[str, list[Document], bool]]:\n",
    "        print(\"------ GRADING DOCUMENTS ------\")\n",
    "\n",
    "        if state.documents is not None:\n",
    "\n",
    "            filtered = self._filter(state.question, state.documents)\n",
    "\n",
    "            if len(filtered) == 0:\n",
    "\n",
    "                print(\"No relevant documents found.\")\n",
    "\n",
    "                state.web_search = True\n",
    "\n",
    "                return {\n",
    "                    \"documents\": [],\n",
    "                    \"question\": state.question,\n",
    "                    \"web_search\": state.web_search,\n",
    "                }\n",
    "\n",
    "            return {\n",
    "                \"documents\": state.documents,\n",
    "                \"question\": state.question,\n",
    "                \"web_search\": state.web_search,\n",
    "            }\n",
    "        else:\n",
    "            print(\"No documents to grade.\")\n",
    "            return {\n",
    "                \"documents\": [],\n",
    "                \"question\": state.question,\n",
    "                \"web_search\": False,\n",
    "            }\n",
    "\n",
    "    def _filter(self, question: str, documents: list[Document]) -> list[Document]:\n",
    "        \"\"\"Filter documents based on relevance.\"\"\"\n",
    "        filtered: list[Document] = []\n",
    "\n",
    "        for document in documents:\n",
    "            grade = self._grade(document, question)\n",
    "            if grade.score == \"yes\":\n",
    "                print(\n",
    "                    f\"Document '{document.metadata.get('source', 'unknown')}' is relevant.\"\n",
    "                )\n",
    "                filtered.append(document)\n",
    "            else:\n",
    "                print(\n",
    "                    f\"Document '{document.metadata.get('source', 'unknown')}' is not relevant.\"\n",
    "                )\n",
    "\n",
    "        return filtered\n",
    "\n",
    "    def _grade(self, document: Document, question: str) -> DocumentGrade:\n",
    "        \"\"\"Grade a single document.\"\"\"\n",
    "        grade = self._workflow.invoke(\n",
    "            {\"document\": document.page_content, \"question\": question}\n",
    "        )\n",
    "        return cast(DocumentGrade, grade)\n",
    "\n",
    "\n",
    "class QueryTransformer:\n",
    "    system_msg = \"\"\"\n",
    "    You are a question re-writer that converts an input question into a better version that is optimized \\n\n",
    "    for web search. Look at the input and try to reason about the underlying semantic intent / meaning. Answer directly, \n",
    "    only with the new question, nothing more.\n",
    "    \"\"\"\n",
    "\n",
    "    def __init__(self, llm: ChatOllama):\n",
    "        self._prompt = ChatPromptTemplate.from_messages(\n",
    "            [\n",
    "                (\"system\", self.system_msg),\n",
    "                (\n",
    "                    \"human\",\n",
    "                    \"Here is the initial question: \\n\\n {question} \\n Formulate an improved question.\",\n",
    "                ),\n",
    "            ]\n",
    "        )\n",
    "        self._llm = llm\n",
    "        self._workflow = self._prompt | self._llm | StrOutputParser()\n",
    "\n",
    "    @property\n",
    "    def workflow(self):\n",
    "        return self._workflow\n",
    "\n",
    "    @workflow.setter\n",
    "    def workflow(self, workflow):\n",
    "        self._workflow = workflow\n",
    "\n",
    "    def __call__(self, state: State) -> dict[str, Union[str, list[Document], None]]:\n",
    "        print(\"------ REWRITING QUESTION ------\")\n",
    "        rewritten_question = self._workflow.invoke({\"question\": state.question})\n",
    "        print(f\"Rewritten question: {rewritten_question}\")\n",
    "        return {\"question\": rewritten_question, \"documents\": state.documents}\n",
    "\n",
    "\n",
    "class WebSearcher:\n",
    "    def __init__(self, search_tool: TavilySearch):\n",
    "        self._search_tool = search_tool\n",
    "\n",
    "    def __call__(self, state: State) -> dict[str, Union[str, list[Document]]]:\n",
    "        print(\"------ PERFORMING WEB SEARCH ------\")\n",
    "        search_results = self._search_tool.invoke(state.question)\n",
    "        documents = [Document(page_content=result) for result in search_results]\n",
    "        print(f\"Found {len(documents)} documents.\")\n",
    "        return {\"documents\": documents, \"question\": state.question}\n",
    "\n",
    "\n",
    "def generation_condition(state: State) -> Literal[\"transform_query\", \"generate\"]:\n",
    "    if not state.web_search:\n",
    "        return \"generate\"\n",
    "    return \"transform_query\""
   ]
  },
  {
   "cell_type": "code",
   "execution_count": 16,
   "id": "f414a7a1",
   "metadata": {},
   "outputs": [
    {
     "data": {
      "image/png": "[encoded data removed]",
      "text/plain": [
       "<IPython.core.display.Image object>"
      ]
     },
     "metadata": {},
     "output_type": "display_data"
    }
   ],
   "source": [
    "builder = StateGraph(State)\n",
    "builder.add_node(\"retrieve\", Retriever(vector_store))\n",
    "builder.add_node(\"generate\", Generator(llm, prompt))\n",
    "builder.add_node(\"grade\", DocumentGrader(llm, DocumentGrade))\n",
    "builder.add_node(\"transform_query\", QueryTransformer(llm))\n",
    "builder.add_node(\"web_search\", WebSearcher(search_tool))\n",
    "\n",
    "builder.add_edge(START, \"retrieve\")\n",
    "builder.add_edge(\"retrieve\", \"grade\")\n",
    "builder.add_conditional_edges(\n",
    "    \"grade\",\n",
    "    generation_condition,\n",
    "    {\n",
    "        \"transform_query\": \"transform_query\",\n",
    "        \"generate\": \"generate\",\n",
    "    },\n",
    ")\n",
    "builder.add_edge(\"transform_query\", \"web_search\")\n",
    "builder.add_edge(\"web_search\", \"generate\")\n",
    "builder.add_edge(\"generate\", END)\n",
    "\n",
    "\n",
    "workflow = builder.compile()\n",
    "\n",
    "display(Image(workflow.get_graph().draw_mermaid_png()))"
   ]
  },
  {
   "cell_type": "code",
   "execution_count": 20,
   "id": "30afe839",
   "metadata": {},
   "outputs": [
    {
     "name": "stdout",
     "output_type": "stream",
     "text": [
      "------ RETRIEVING DOCUMENTS ------\n",
      "------ GRADING DOCUMENTS ------\n",
      "Document 'https://lilianweng.github.io/posts/2023-06-23-agent/' is relevant.\n",
      "Document 'https://lilianweng.github.io/posts/2023-06-23-agent/' is not relevant.\n",
      "Document 'https://lilianweng.github.io/posts/2023-06-23-agent/' is not relevant.\n",
      "Document 'https://lilianweng.github.io/posts/2023-06-23-agent/' is relevant.\n",
      "------ GENERATING ANSWER ------\n"
     ]
    },
    {
     "data": {
      "text/plain": [
       "{'question': 'What is agent memory?',\n",
       " 'web_search': False,\n",
       " 'generated': 'Agent memory refers to the capability of retaining and recalling information over extended periods. It is often implemented using an external vector store for fast retrieval, enabling the agent to access infinite information that can improve its behavior conditioned on past experiences.',\n",
       " 'documents': [Document(id='db6a05f5-8f9c-47a9-8c7f-bafff614cd6a', metadata={'source': 'https://lilianweng.github.io/posts/2023-06-23-agent/', 'title': \"LLM Powered Autonomous Agents | Lil'Log\", 'description': 'Building agents with LLM (large language model) as its core controller is a cool concept. Several proof-of-concepts demos, such as AutoGPT, GPT-Engineer and BabyAGI, serve as inspiring examples. The potentiality of LLM extends beyond generating well-written copies, stories, essays and programs; it can be framed as a powerful general problem solver.\\nAgent System Overview\\nIn a LLM-powered autonomous agent system, LLM functions as the agent’s brain, complemented by several key components:\\n\\nPlanning\\n\\nSubgoal and decomposition: The agent breaks down large tasks into smaller, manageable subgoals, enabling efficient handling of complex tasks.\\nReflection and refinement: The agent can do self-criticism and self-reflection over past actions, learn from mistakes and refine them for future steps, thereby improving the quality of final results.\\n\\n\\nMemory\\n\\nShort-term memory: I would consider all the in-context learning (See Prompt Engineering) as utilizing short-term memory of the model to learn.\\nLong-term memory: This provides the agent with the capability to retain and recall (infinite) information over extended periods, often by leveraging an external vector store and fast retrieval.\\n\\n\\nTool use\\n\\nThe agent learns to call external APIs for extra information that is missing from the model weights (often hard to change after pre-training), including current information, code execution capability, access to proprietary information sources and more.\\n\\n\\n\\n\\n\\t\\n\\tOverview of a LLM-powered autonomous agent system.\\n\\nComponent One: Planning\\nA complicated task usually involves many steps. An agent needs to know what they are and plan ahead.', 'language': 'en'}, page_content='Memory stream: is a long-term memory module (external database) that records a comprehensive list of agents’ experience in natural language.\\n\\nEach element is an observation, an event directly provided by the agent.\\n- Inter-agent communication can trigger new natural language statements.\\n\\n\\nRetrieval model: surfaces the context to inform the agent’s behavior, according to relevance, recency and importance.'),\n",
       "  Document(id='92bc3fd7-ebdf-42a8-8170-328fc5128079', metadata={'source': 'https://lilianweng.github.io/posts/2023-06-23-agent/', 'title': \"LLM Powered Autonomous Agents | Lil'Log\", 'description': 'Building agents with LLM (large language model) as its core controller is a cool concept. Several proof-of-concepts demos, such as AutoGPT, GPT-Engineer and BabyAGI, serve as inspiring examples. The potentiality of LLM extends beyond generating well-written copies, stories, essays and programs; it can be framed as a powerful general problem solver.\\nAgent System Overview\\nIn a LLM-powered autonomous agent system, LLM functions as the agent’s brain, complemented by several key components:\\n\\nPlanning\\n\\nSubgoal and decomposition: The agent breaks down large tasks into smaller, manageable subgoals, enabling efficient handling of complex tasks.\\nReflection and refinement: The agent can do self-criticism and self-reflection over past actions, learn from mistakes and refine them for future steps, thereby improving the quality of final results.\\n\\n\\nMemory\\n\\nShort-term memory: I would consider all the in-context learning (See Prompt Engineering) as utilizing short-term memory of the model to learn.\\nLong-term memory: This provides the agent with the capability to retain and recall (infinite) information over extended periods, often by leveraging an external vector store and fast retrieval.\\n\\n\\nTool use\\n\\nThe agent learns to call external APIs for extra information that is missing from the model weights (often hard to change after pre-training), including current information, code execution capability, access to proprietary information sources and more.\\n\\n\\n\\n\\n\\t\\n\\tOverview of a LLM-powered autonomous agent system.\\n\\nComponent One: Planning\\nA complicated task usually involves many steps. An agent needs to know what they are and plan ahead.', 'language': 'en'}, page_content='The design of generative agents combines LLM with memory, planning and reflection mechanisms to enable agents to behave conditioned on past experience, as well as to interact with other agents.'),\n",
       "  Document(id='7aedc5e9-33b6-46f3-999e-e0e784932c40', metadata={'source': 'https://lilianweng.github.io/posts/2023-06-23-agent/', 'title': \"LLM Powered Autonomous Agents | Lil'Log\", 'description': 'Building agents with LLM (large language model) as its core controller is a cool concept. Several proof-of-concepts demos, such as AutoGPT, GPT-Engineer and BabyAGI, serve as inspiring examples. The potentiality of LLM extends beyond generating well-written copies, stories, essays and programs; it can be framed as a powerful general problem solver.\\nAgent System Overview\\nIn a LLM-powered autonomous agent system, LLM functions as the agent’s brain, complemented by several key components:\\n\\nPlanning\\n\\nSubgoal and decomposition: The agent breaks down large tasks into smaller, manageable subgoals, enabling efficient handling of complex tasks.\\nReflection and refinement: The agent can do self-criticism and self-reflection over past actions, learn from mistakes and refine them for future steps, thereby improving the quality of final results.\\n\\n\\nMemory\\n\\nShort-term memory: I would consider all the in-context learning (See Prompt Engineering) as utilizing short-term memory of the model to learn.\\nLong-term memory: This provides the agent with the capability to retain and recall (infinite) information over extended periods, often by leveraging an external vector store and fast retrieval.\\n\\n\\nTool use\\n\\nThe agent learns to call external APIs for extra information that is missing from the model weights (often hard to change after pre-training), including current information, code execution capability, access to proprietary information sources and more.\\n\\n\\n\\n\\n\\t\\n\\tOverview of a LLM-powered autonomous agent system.\\n\\nComponent One: Planning\\nA complicated task usually involves many steps. An agent needs to know what they are and plan ahead.', 'language': 'en'}, page_content='Planning\\n\\nSubgoal and decomposition: The agent breaks down large tasks into smaller, manageable subgoals, enabling efficient handling of complex tasks.\\nReflection and refinement: The agent can do self-criticism and self-reflection over past actions, learn from mistakes and refine them for future steps, thereby improving the quality of final results.\\n\\n\\nMemory'),\n",
       "  Document(id='55cf643d-d75c-44ab-b899-921824371943', metadata={'source': 'https://lilianweng.github.io/posts/2023-06-23-agent/', 'title': \"LLM Powered Autonomous Agents | Lil'Log\", 'description': 'Building agents with LLM (large language model) as its core controller is a cool concept. Several proof-of-concepts demos, such as AutoGPT, GPT-Engineer and BabyAGI, serve as inspiring examples. The potentiality of LLM extends beyond generating well-written copies, stories, essays and programs; it can be framed as a powerful general problem solver.\\nAgent System Overview\\nIn a LLM-powered autonomous agent system, LLM functions as the agent’s brain, complemented by several key components:\\n\\nPlanning\\n\\nSubgoal and decomposition: The agent breaks down large tasks into smaller, manageable subgoals, enabling efficient handling of complex tasks.\\nReflection and refinement: The agent can do self-criticism and self-reflection over past actions, learn from mistakes and refine them for future steps, thereby improving the quality of final results.\\n\\n\\nMemory\\n\\nShort-term memory: I would consider all the in-context learning (See Prompt Engineering) as utilizing short-term memory of the model to learn.\\nLong-term memory: This provides the agent with the capability to retain and recall (infinite) information over extended periods, often by leveraging an external vector store and fast retrieval.\\n\\n\\nTool use\\n\\nThe agent learns to call external APIs for extra information that is missing from the model weights (often hard to change after pre-training), including current information, code execution capability, access to proprietary information sources and more.\\n\\n\\n\\n\\n\\t\\n\\tOverview of a LLM-powered autonomous agent system.\\n\\nComponent One: Planning\\nA complicated task usually involves many steps. An agent needs to know what they are and plan ahead.', 'language': 'en'}, page_content='Memory\\n\\nShort-term memory: I would consider all the in-context learning (See Prompt Engineering) as utilizing short-term memory of the model to learn.\\nLong-term memory: This provides the agent with the capability to retain and recall (infinite) information over extended periods, often by leveraging an external vector store and fast retrieval.\\n\\n\\nTool use')]}"
      ]
     },
     "execution_count": 20,
     "metadata": {},
     "output_type": "execute_result"
    }
   ],
   "source": [
    "workflow.invoke(State(question=\"What is agent memory?\"))"
   ]
  },
  {
   "cell_type": "code",
   "execution_count": null,
   "id": "80b74996",
   "metadata": {},
   "outputs": [],
   "source": []
  }
 ],
 "metadata": {
  "kernelspec": {
   "display_name": "agentic-ai-pg",
   "language": "python",
   "name": "python3"
  },
  "language_info": {
   "codemirror_mode": {
    "name": "ipython",
    "version": 3
   },
   "file_extension": ".py",
   "mimetype": "text/x-python",
   "name": "python",
   "nbconvert_exporter": "python",
   "pygments_lexer": "ipython3",
   "version": "3.13.5"
  }
 },
 "nbformat": 4,
 "nbformat_minor": 5
}
