{
 "cells": [
  {
   "cell_type": "code",
   "execution_count": 1,
   "id": "55d71e21",
   "metadata": {},
   "outputs": [],
   "source": [
    "from typing import Optional, Union\n",
    "\n",
    "from IPython.display import Image, display\n",
    "from langchain_ollama import ChatOllama\n",
    "from langgraph.checkpoint.memory import MemorySaver\n",
    "from langgraph.graph import END, START, StateGraph\n",
    "from pydantic import BaseModel"
   ]
  },
  {
   "cell_type": "code",
   "execution_count": 2,
   "id": "27940c72",
   "metadata": {},
   "outputs": [
    {
     "data": {
      "text/plain": [
       "AIMessage(content=\"I am Qwen, an AI assistant created by Alibaba Cloud. I'm here to help with any questions or tasks you might have! How can I assist you today?\", additional_kwargs={}, response_metadata={'model': 'qwen2.5', 'created_at': '2025-07-12T03:31:47.16776Z', 'done': True, 'done_reason': 'stop', 'total_duration': 1657659541, 'load_duration': 50511750, 'prompt_eval_count': 33, 'prompt_eval_duration': 331667583, 'eval_count': 35, 'eval_duration': 1274589250, 'model_name': 'qwen2.5'}, id='run--cc9d6aef-fce1-4068-b10e-057b5899f8cb-0', usage_metadata={'input_tokens': 33, 'output_tokens': 35, 'total_tokens': 68})"
      ]
     },
     "execution_count": 2,
     "metadata": {},
     "output_type": "execute_result"
    }
   ],
   "source": [
    "llm = ChatOllama(model=\"qwen2.5\")\n",
    "llm.invoke(\"Who are you?\")"
   ]
  },
  {
   "cell_type": "code",
   "execution_count": 3,
   "id": "b2d1e0bd",
   "metadata": {},
   "outputs": [],
   "source": [
    "class State(BaseModel):\n",
    "    topic: str\n",
    "    characters: Optional[str] = None\n",
    "    setting: Optional[str] = None\n",
    "    premise: Optional[str] = None\n",
    "    story: Optional[str] = None\n",
    "    improved_story: Optional[str] = None\n",
    "\n",
    "\n",
    "class GenerateCharacters:\n",
    "    def __init__(self, llm: ChatOllama) -> None:\n",
    "        self.llm = llm\n",
    "\n",
    "    def __call__(self, state: State):\n",
    "        \"\"\"Generate character names and traits.\"\"\"\n",
    "        try:\n",
    "            characters = self.llm.invoke(\n",
    "                f\"Create two characters names and brief traits for a story about {state.topic}\"\n",
    "            )\n",
    "            state.characters = characters.content\n",
    "        except Exception as e:\n",
    "            state.characters = f\"Error: {e}\"\n",
    "        return dict(characters=state.characters)\n",
    "\n",
    "\n",
    "class GenerateSetting:\n",
    "    def __init__(self, llm: ChatOllama) -> None:\n",
    "        self.llm = llm\n",
    "\n",
    "    def __call__(self, state: State):\n",
    "        \"\"\"Generate a vivid setting.\"\"\"\n",
    "        try:\n",
    "            setting = self.llm.invoke(\n",
    "                f\"Describe a vivid setting for a story about {state.topic}\"\n",
    "            )\n",
    "            state.setting = setting.content\n",
    "        except Exception as e:\n",
    "            state.setting = f\"Error: {e}\"\n",
    "        return dict(setting=state.setting)\n",
    "\n",
    "\n",
    "class GeneratePremise:\n",
    "    def __init__(self, llm: ChatOllama) -> None:\n",
    "        self.llm = llm\n",
    "\n",
    "    def __call__(self, state: State):\n",
    "        \"\"\"Generate a one-sentence plot premise.\"\"\"\n",
    "        try:\n",
    "            premise = self.llm.invoke(\n",
    "                f\"Write a one-sentence plot premise for a story about {state.topic}\"\n",
    "            )\n",
    "            state.premise = premise.content\n",
    "        except Exception as e:\n",
    "            state.premise = f\"Error: {e}\"\n",
    "        return dict(premise=state.premise)\n",
    "\n",
    "\n",
    "class CombineElements:\n",
    "    def __init__(self, llm: ChatOllama) -> None:\n",
    "        self.llm = llm\n",
    "\n",
    "    def __call__(self, state: State):\n",
    "        \"\"\"Combine all elements into a story introduction.\"\"\"\n",
    "        try:\n",
    "            prompt = (\n",
    "                f\"Write a short story introduction using these elements:\\n\"\n",
    "                f\"Characters: {state.characters}\\n\"\n",
    "                f\"Setting: {state.setting}\\n\"\n",
    "                f\"Premise: {state.premise}\"\n",
    "            )\n",
    "            story = self.llm.invoke(prompt)\n",
    "            state.story = story.content\n",
    "        except Exception as e:\n",
    "            state.story = f\"Error: {e}\"\n",
    "        return dict(story=state.story)"
   ]
  },
  {
   "cell_type": "code",
   "execution_count": 4,
   "id": "1a48c689",
   "metadata": {},
   "outputs": [
    {
     "data": {
      "image/png": "[encoded data removed]",
      "text/plain": [
       "<IPython.core.display.Image object>"
      ]
     },
     "metadata": {},
     "output_type": "display_data"
    }
   ],
   "source": [
    "builder = StateGraph(State)\n",
    "builder.add_node(\"characters\", GenerateCharacters(llm))\n",
    "builder.add_node(\"setting\", GenerateSetting(llm))\n",
    "builder.add_node(\"premise\", GeneratePremise(llm))\n",
    "builder.add_node(\"combine\", CombineElements(llm))\n",
    "\n",
    "builder.add_edge(START, \"characters\")\n",
    "builder.add_edge(START, \"setting\")\n",
    "builder.add_edge(START, \"premise\")\n",
    "builder.add_edge(\"characters\", \"combine\")\n",
    "builder.add_edge(\"setting\", \"combine\")\n",
    "builder.add_edge(\"premise\", \"combine\")\n",
    "builder.add_edge(\"combine\", END)\n",
    "\n",
    "graph = builder.compile(checkpointer=MemorySaver())\n",
    "\n",
    "display(Image(graph.get_graph().draw_mermaid_png()))"
   ]
  },
  {
   "cell_type": "code",
   "execution_count": 5,
   "id": "6a8c07ae",
   "metadata": {},
   "outputs": [],
   "source": [
    "result = graph.invoke(dict(topic=\"Clive Rosfield survived and then...\"), config={\"configurable\": {\"thread_id\": \"1\"}})"
   ]
  },
  {
   "cell_type": "code",
   "execution_count": 7,
   "id": "0ffb49f6",
   "metadata": {},
   "outputs": [
    {
     "name": "stdout",
     "output_type": "stream",
     "text": [
      "In the heart of the dense, whispering woods of Kent, where sunlight barely pierced through the thick canopy of oak trees, stood an ancient stone cottage, its weathered façade blending seamlessly into the landscape. The air was filled with the faint scent of damp earth and decaying leaves, mixed with a subtle fragrance from nearby wildflowers that had found their way through the cracks in the cobblestone path leading to the door.\n",
      "\n",
      "Clive Rosfield emerged from the shadows of the forest, his footsteps barely audible on the carpet of fallen leaves. He was a man of about fifty, with sharp features softened by years under the harsh British sky, and eyes that held the weight of countless stories and secrets. His clothes were tattered but clean—evidence of recent washing—and he carried a rucksack slung over his shoulder, filled with essentials.\n",
      "\n",
      "The cottage itself seemed to hold its breath as Clive approached. It was a modest structure, built from local stone and thatched roof, with large windows set into the walls that now stood slightly ajar, whispering secrets of past lives inside. A sense of anticipation hung in the air, almost palpable, like the tension before an inevitable confrontation.\n",
      "\n",
      "As Clive stepped through the door, the interior revealed itself: a small but cozy living space filled with the warmth of firelight and the soft glow from candles on worn wooden tables. The scent of herbs and baking bread mingled with the earthy odor of the wood, creating a unique aroma that comforted him deeply.\n",
      "\n",
      "In the center of the room stood an old oak table, where various items lay spread out: maps, a compass, a bottle of water, and a small notebook filled with sketches and notes. These artifacts were Clive's companions in a world that had nearly devoured him but now seemed to offer sanctuary and purpose.\n",
      "\n",
      "As he settled into a chair by the fire, the room came alive around him, as if recognizing his presence. The warmth of the hearth enveloped him, offering a stark contrast to the coldness outside. Here, in this simple yet intimate setting, Clive could begin to piece together the fragments of his past and plan for an uncertain future.\n",
      "\n",
      "The door creaked open slightly, and a young girl peeked inside, her eyes wide with curiosity and perhaps a hint of fear. She was no more than twelve years old, her hair a wild tangle of curls, and she wore a simple dress that seemed to have been made from the remnants of something finer. Her gaze met Clive's, and for an instant, they understood each other without words.\n",
      "\n",
      "Clive Rosfield had survived a deadly plane crash only to awaken in this mysterious alternate dimension where the rules of reality were bent and his every action echoed across countless realities. The cottage held more secrets than he could fathom, and the girl, Isolde Hartman's daughter, was the key to unlocking them all.\n",
      "\n",
      "As Clive pondered his next steps, a shadow flickered in the corner of his eye—Isolde Hartman, responsible for the disaster that had torn apart his world. Her presence loomed over him like an ominous cloud, her intellect and manipulative nature driving her to take desperate measures to cover up the truth or to carry out a dangerous plan.\n",
      "\n",
      "The stage was set for Clive's next chapter—a journey filled with intrigue, danger, and the relentless pursuit of understanding a reality that defied logic.\n"
     ]
    }
   ],
   "source": [
    "print(result.get(\"story\"))"
   ]
  },
  {
   "cell_type": "code",
   "execution_count": null,
   "id": "c866076f",
   "metadata": {},
   "outputs": [],
   "source": []
  }
 ],
 "metadata": {
  "kernelspec": {
   "display_name": "agentic-ai-pg",
   "language": "python",
   "name": "python3"
  },
  "language_info": {
   "codemirror_mode": {
    "name": "ipython",
    "version": 3
   },
   "file_extension": ".py",
   "mimetype": "text/x-python",
   "name": "python",
   "nbconvert_exporter": "python",
   "pygments_lexer": "ipython3",
   "version": "3.13.5"
  }
 },
 "nbformat": 4,
 "nbformat_minor": 5
}
