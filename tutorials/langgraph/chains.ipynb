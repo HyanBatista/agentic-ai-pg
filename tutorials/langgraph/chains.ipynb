{
 "cells": [
  {
   "cell_type": "code",
   "execution_count": 8,
   "id": "6b4d4c3f",
   "metadata": {},
   "outputs": [],
   "source": [
    "# from pprint import pprint\n",
    "\n",
    "from langchain_core.messages import AIMessage, HumanMessage\n",
    "from langchain_ollama import ChatOllama"
   ]
  },
  {
   "cell_type": "code",
   "execution_count": 9,
   "id": "008b54a4",
   "metadata": {},
   "outputs": [],
   "source": [
    "messages = [AIMessage(content=\"Please tell me how can I help.\", name=\"LlmModel\")]\n",
    "messages.append(HumanMessage(\"I want to learn coding.\", name=\"Hyan\"))\n",
    "messages.append(\n",
    "    AIMessage(\n",
    "        \"Which programming language do you want to learn?\",\n",
    "        name=\"LllModel\",\n",
    "    )\n",
    ")\n",
    "messages.append(HumanMessage(\"I want to learn Python programming language.\", name=\"Hyan\"))"
   ]
  },
  {
   "cell_type": "code",
   "execution_count": 10,
   "id": "34148a89",
   "metadata": {},
   "outputs": [
    {
     "name": "stdout",
     "output_type": "stream",
     "text": [
      "==================================\u001b[1m Ai Message \u001b[0m==================================\n",
      "Name: LlmModel\n",
      "\n",
      "Please tell me how can I help.\n",
      "================================\u001b[1m Human Message \u001b[0m=================================\n",
      "Name: Hyan\n",
      "\n",
      "I want to learn coding.\n",
      "==================================\u001b[1m Ai Message \u001b[0m==================================\n",
      "Name: LllModel\n",
      "\n",
      "Which programming language do you want to learn?\n",
      "================================\u001b[1m Human Message \u001b[0m=================================\n",
      "Name: Hyan\n",
      "\n",
      "I want to learn Python programming language.\n"
     ]
    }
   ],
   "source": [
    "_ = [m.pretty_print() for m in messages]"
   ]
  },
  {
   "cell_type": "code",
   "execution_count": 11,
   "id": "b0d61015",
   "metadata": {},
   "outputs": [],
   "source": [
    "llm = ChatOllama(model=\"gemma3\")"
   ]
  },
  {
   "cell_type": "code",
   "execution_count": 13,
   "id": "1b7fa663",
   "metadata": {},
   "outputs": [
    {
     "data": {
      "text/plain": [
       "{'model': 'gemma3',\n",
       " 'created_at': '2025-07-11T14:48:53.396929Z',\n",
       " 'done': True,\n",
       " 'done_reason': 'stop',\n",
       " 'total_duration': 28167948833,\n",
       " 'load_duration': 85169625,\n",
       " 'prompt_eval_count': 55,\n",
       " 'prompt_eval_duration': 213329583,\n",
       " 'eval_count': 1123,\n",
       " 'eval_duration': 27868780292,\n",
       " 'model_name': 'gemma3'}"
      ]
     },
     "execution_count": 13,
     "metadata": {},
     "output_type": "execute_result"
    }
   ],
   "source": [
    "result = llm.invoke(messages)\n",
    "result.response_metadata"
   ]
  },
  {
   "cell_type": "code",
   "execution_count": null,
   "id": "11e16eb1",
   "metadata": {},
   "outputs": [],
   "source": []
  }
 ],
 "metadata": {
  "kernelspec": {
   "display_name": "agentic-ai-pg",
   "language": "python",
   "name": "python3"
  },
  "language_info": {
   "codemirror_mode": {
    "name": "ipython",
    "version": 3
   },
   "file_extension": ".py",
   "mimetype": "text/x-python",
   "name": "python",
   "nbconvert_exporter": "python",
   "pygments_lexer": "ipython3",
   "version": "3.13.5"
  }
 },
 "nbformat": 4,
 "nbformat_minor": 5
}
