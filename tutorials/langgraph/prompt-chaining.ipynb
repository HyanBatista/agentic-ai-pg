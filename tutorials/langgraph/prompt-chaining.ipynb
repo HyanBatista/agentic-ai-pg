{
 "cells": [
  {
   "cell_type": "code",
   "execution_count": 1,
   "id": "9ae6c1c5",
   "metadata": {},
   "outputs": [],
   "source": [
    "from IPython.display import Image, display\n",
    "from langchain_ollama import ChatOllama\n",
    "from langgraph.checkpoint.memory import MemorySaver\n",
    "from langgraph.graph import END, START, StateGraph\n",
    "from pydantic import BaseModel"
   ]
  },
  {
   "cell_type": "code",
   "execution_count": 2,
   "id": "9530392d",
   "metadata": {},
   "outputs": [],
   "source": [
    "class State(BaseModel):\n",
    "    topic: str\n",
    "    story: str | None = None\n",
    "    improved_story: str | None = None\n",
    "    final_story: str | None = None\n",
    "\n",
    "\n",
    "class GenerateStory:\n",
    "    \"\"\"Generate a one-sentence story premise based on a topic.\"\"\"\n",
    "\n",
    "    def __init__(self, llm: ChatOllama) -> None:\n",
    "        self.llm = llm\n",
    "\n",
    "    def __call__(self, state: State) -> dict:\n",
    "        try:\n",
    "            story = self.llm.invoke(\n",
    "                f\"Write a one sentence story premise about {state.topic}\"\n",
    "            )\n",
    "            state.story = story.content\n",
    "        except Exception as e:\n",
    "            state.story = f\"Error: {e}\"\n",
    "        return state.model_dump()\n",
    "\n",
    "\n",
    "def check_for_conflict(state: State) -> str:\n",
    "    \"\"\"Check if the story contains conflict punctuation.\"\"\"\n",
    "    if isinstance(state.story, str) and (\"?\" in state.story or \"!\" in state.story):\n",
    "        return \"fail\"\n",
    "    return \"pass\"\n",
    "\n",
    "\n",
    "class ImproveStory:\n",
    "    \"\"\"Enhance the story premise with vivid details.\"\"\"\n",
    "\n",
    "    def __init__(self, llm: ChatOllama) -> None:\n",
    "        self.llm = llm\n",
    "\n",
    "    def __call__(self, state: State) -> dict:\n",
    "        try:\n",
    "            improved = self.llm.invoke(\n",
    "                f\"Enhance this story premise with vivid details: {state.story}\"\n",
    "            )\n",
    "            state.improved_story = improved.content\n",
    "        except Exception as e:\n",
    "            state.improved_story = f\"Error: {e}\"\n",
    "        return state.model_dump()\n",
    "\n",
    "\n",
    "class PolishStory:\n",
    "    \"\"\"Add an unexpected twist to the improved story.\"\"\"\n",
    "\n",
    "    def __init__(self, llm: ChatOllama) -> None:\n",
    "        self.llm = llm\n",
    "\n",
    "    def __call__(self, state: State) -> dict:\n",
    "        try:\n",
    "            final = self.llm.invoke(\n",
    "                f\"Add an unexpected twist to this story premise: {state.improved_story}\"\n",
    "            )\n",
    "            state.final_story = final.content\n",
    "        except Exception as e:\n",
    "            state.final_story = f\"Error: {e}\"\n",
    "        return state.model_dump()"
   ]
  },
  {
   "cell_type": "code",
   "execution_count": 3,
   "id": "5dd61692",
   "metadata": {},
   "outputs": [],
   "source": [
    "llm = ChatOllama(model=\"qwen2.5\")"
   ]
  },
  {
   "cell_type": "code",
   "execution_count": 4,
   "id": "be1b5e38",
   "metadata": {},
   "outputs": [
    {
     "data": {
      "image/png": "[encoded data removed]",
      "text/plain": [
       "<IPython.core.display.Image object>"
      ]
     },
     "metadata": {},
     "output_type": "display_data"
    }
   ],
   "source": [
    "builder = StateGraph(State)\n",
    "builder.add_node(\"generate\", GenerateStory(llm))\n",
    "builder.add_node(\"improve\", ImproveStory(llm))\n",
    "builder.add_node(\"polish\", PolishStory(llm))\n",
    "\n",
    "builder.add_edge(START, \"generate\")\n",
    "builder.add_conditional_edges(\n",
    "    \"generate\",\n",
    "    check_for_conflict,\n",
    "    {\n",
    "        \"pass\": \"improve\",\n",
    "        \"fail\": \"generate\",\n",
    "    },\n",
    ")\n",
    "builder.add_edge(\"improve\", \"polish\")\n",
    "builder.add_edge(\"polish\", END)\n",
    "\n",
    "graph = builder.compile(checkpointer=MemorySaver())\n",
    "\n",
    "display(Image(graph.get_graph().draw_mermaid_png()))"
   ]
  },
  {
   "cell_type": "code",
   "execution_count": 5,
   "id": "6095236c",
   "metadata": {},
   "outputs": [],
   "source": [
    "result = graph.invoke(\n",
    "    dict(topic=\"Peter Parker got into a bar and...\"),\n",
    "    config={\"configurable\": {\"thread_id\": \"1\"}},\n",
    ")"
   ]
  },
  {
   "cell_type": "code",
   "execution_count": 7,
   "id": "99ec88a7",
   "metadata": {},
   "outputs": [
    {
     "name": "stdout",
     "output_type": "stream",
     "text": [
      "That's a gripping premise! To add an unexpected twist, let’s introduce a plot element that dramatically alters the course of events. Here’s how it can be done:\n",
      "\n",
      "---\n",
      "\n",
      "Peter Parker, disguised meticulously as his alter ego Spider-Man, stepped through the dimly lit door of the exclusive underground club \"The Velvet Web,\" his heart pounding with both excitement and trepidation. The low murmur of voices and subtle hum of music filled the air as he slipped past the bouncer who barely glanced at him, too preoccupied to notice the web-slinger’s entrance.\n",
      "\n",
      "Inside, the bar was a labyrinth of shadowy corners and glittering chandeliers. Neon lights flickered across the sleek, black surfaces and the faint scent of exotic tobacco hung in the air. Peter moved with practiced ease through the throngs of patrons, his spider-sense tingling as he sensed the tension beneath the surface.\n",
      "\n",
      "As he navigated deeper into the club, a hush fell over the room. A group of shadowy figures, dressed in suits and fedoras, turned to face him. They wore a look of recognition, and Peter knew he had stumbled upon something far more dangerous than a night out on the town.\n",
      "\n",
      "A man with a slicked-back hairstyle and piercing blue eyes approached him, his voice smooth but laced with ice. \"Spider-Man, we’ve been expecting you.\"\n",
      "\n",
      "Peter’s mind raced as he tried to piece together what was happening. Was this some sort of elaborate setup by Green Goblin or Doctor Octopus? Or could it be something more sinister altogether?\n",
      "\n",
      "Before Peter could respond, a sudden commotion broke out. Gunfire echoed through the club, and alarms blared. The room erupted into chaos as patrons screamed and scrambled for cover.\n",
      "\n",
      "Peter sprang into action, his spider-sense guiding him to safety as he weaved between tables and dodged flying debris. Through the mayhem, he caught a glimpse of a masked figure in red and black moving with unnatural precision—a detail that chilled him to the bone.\n",
      "\n",
      "As the gunfire subsided, Peter found himself cornered by several of the mysterious figures. They surrounded him, their eyes full of questions and suspicion. One of them, the man with blue eyes, stepped forward.\n",
      "\n",
      "\"Who are you really?\" he demanded.\n",
      "\n",
      "Peter hesitated, knowing any wrong move could be his last. \"I’m just a guy looking for some fun,\" he lied, hoping to buy himself time.\n",
      "\n",
      "The man’s expression didn’t change, but Peter sensed a flicker of doubt in his eyes. He decided to take a risk. \"Look, I might have gotten in here by mistake, but I’m not here to cause trouble.\"\n",
      "\n",
      "Just as the tension seemed to reach its peak, the lights suddenly flickered and went out, plunging the club into darkness. In that moment of chaos, Peter realized something unexpected: the masked figure he had seen earlier was none other than his former classmate and friend, Mary Jane Watson.\n",
      "\n",
      "Mary Jane's voice echoed through the darkness. \"Peter, it’s me,\" she whispered urgently. \"I need your help.\"\n",
      "\n",
      "The twist is revealed as Peter recognizes Mary Jane, who has been working undercover for a secret government agency known as SWORD (Secrets and Operations to Reveal Warnings). She had lured him here under the guise of a regular night out to gather intelligence on a high-stakes operation.\n",
      "\n",
      "As they emerged from the shadows, the rest of the room began to stir. More figures appeared, each with their own identities revealed: Spider-Man's old allies and enemies now working together in an intricate web of espionage and intrigue.\n",
      "\n",
      "With Mary Jane by his side, Peter realized that this was just the beginning of a much larger, more complex web of business, involving international threats, high-tech gadgets, and moral dilemmas. He knew that the next time he returned to The Velvet Web, it would be for real business, but this time, he wouldn’t just have a spider-sense; he’d have an entire web of allies and enemies waiting to unravel.\n",
      "\n",
      "As they swung away from the club, Peter couldn't shake off the feeling that this was only the start. The streets below were empty as he and Mary Jane prepared for what promised to be a long and dangerous night in New York City.\n",
      "\n",
      "---\n",
      "\n",
      "This twist introduces a new layer of complexity with SWORD and a former friend turned ally, adding depth to the story and setting up an intriguing narrative direction.\n"
     ]
    }
   ],
   "source": [
    "print(result.get(\"final_story\"))"
   ]
  },
  {
   "cell_type": "code",
   "execution_count": null,
   "id": "8fd929c7",
   "metadata": {},
   "outputs": [],
   "source": []
  }
 ],
 "metadata": {
  "kernelspec": {
   "display_name": "agentic-ai-pg",
   "language": "python",
   "name": "python3"
  },
  "language_info": {
   "codemirror_mode": {
    "name": "ipython",
    "version": 3
   },
   "file_extension": ".py",
   "mimetype": "text/x-python",
   "name": "python",
   "nbconvert_exporter": "python",
   "pygments_lexer": "ipython3",
   "version": "3.13.5"
  }
 },
 "nbformat": 4,
 "nbformat_minor": 5
}
