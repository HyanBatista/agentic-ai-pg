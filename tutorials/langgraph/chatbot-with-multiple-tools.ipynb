{
 "cells": [
  {
   "cell_type": "code",
   "execution_count": 44,
   "id": "a5df1446",
   "metadata": {},
   "outputs": [],
   "source": [
    "import os\n",
    "from typing import Annotated\n",
    "\n",
    "from IPython.display import Image, display\n",
    "from langchain_community.tools import ArxivQueryRun, WikipediaQueryRun\n",
    "from langchain_community.utilities import ArxivAPIWrapper, WikipediaAPIWrapper\n",
    "from langchain_core.messages import AIMessage, AnyMessage, HumanMessage\n",
    "from langchain_ollama import ChatOllama\n",
    "from langchain_tavily import TavilySearch\n",
    "from langgraph.graph import END, START, StateGraph\n",
    "from langgraph.graph.message import add_messages\n",
    "from langgraph.prebuilt import ToolNode, tools_condition\n",
    "from pydantic import BaseModel, field_serializer"
   ]
  },
  {
   "cell_type": "code",
   "execution_count": 45,
   "id": "f286ad0d",
   "metadata": {},
   "outputs": [],
   "source": [
    "os.environ[\"LANGCHAIN_PROJECT\"] = \"ReActAgent\""
   ]
  },
  {
   "cell_type": "code",
   "execution_count": 25,
   "id": "17895ca1",
   "metadata": {},
   "outputs": [
    {
     "data": {
      "text/plain": [
       "'arxiv'"
      ]
     },
     "execution_count": 25,
     "metadata": {},
     "output_type": "execute_result"
    }
   ],
   "source": [
    "api_wrapper_arxiv = ArxivAPIWrapper(top_k_results=2, doc_content_chars_max=500)\n",
    "arxiv = ArxivQueryRun(api_wrapper=api_wrapper_arxiv)\n",
    "arxiv.name"
   ]
  },
  {
   "cell_type": "code",
   "execution_count": 26,
   "id": "e92868bf",
   "metadata": {},
   "outputs": [],
   "source": [
    "result = arxiv.invoke(\"Attention is all you need.\")"
   ]
  },
  {
   "cell_type": "code",
   "execution_count": 27,
   "id": "d4810fc5",
   "metadata": {},
   "outputs": [
    {
     "data": {
      "text/plain": [
       "'wikipedia'"
      ]
     },
     "execution_count": 27,
     "metadata": {},
     "output_type": "execute_result"
    }
   ],
   "source": [
    "api_wrapper_wiki = WikipediaAPIWrapper(top_k_results=1, doc_content_chars_max=500)\n",
    "wiki = WikipediaQueryRun(api_wrapper=api_wrapper_wiki)\n",
    "wiki.name"
   ]
  },
  {
   "cell_type": "code",
   "execution_count": 28,
   "id": "7773d372",
   "metadata": {},
   "outputs": [
    {
     "data": {
      "text/plain": [
       "'Page: Machine learning\\nSummary: Machine learning (ML) is a field of study in artificial intelligence concerned with the development and study of statistical algorithms that can learn from data and generalise to unseen data, and thus perform tasks without explicit instructions. Within a subdiscipline in machine learning, advances in the field of deep learning have allowed neural networks, a class of statistical algorithms, to surpass many previous machine learning approaches in performance.\\nML fi'"
      ]
     },
     "execution_count": 28,
     "metadata": {},
     "output_type": "execute_result"
    }
   ],
   "source": [
    "wiki.invoke(\"What is machine learning?\")"
   ]
  },
  {
   "cell_type": "code",
   "execution_count": 29,
   "id": "817b7133",
   "metadata": {},
   "outputs": [],
   "source": [
    "tavily = TavilySearch()"
   ]
  },
  {
   "cell_type": "code",
   "execution_count": 30,
   "id": "d22b143a",
   "metadata": {},
   "outputs": [],
   "source": [
    "tools = [arxiv, wiki, tavily]\n",
    "llm = ChatOllama(model=\"qwen2.5\")\n",
    "llm = llm.bind_tools(tools=tools)"
   ]
  },
  {
   "cell_type": "code",
   "execution_count": 31,
   "id": "601f955c",
   "metadata": {},
   "outputs": [
    {
     "data": {
      "text/plain": [
       "[{'name': 'tavily_search',\n",
       "  'args': {'query': 'recent AI news',\n",
       "   'search_depth': 'advanced',\n",
       "   'time_range': 'week'},\n",
       "  'id': '7c0a7f63-3641-4b47-bd38-54e9cf9efb9e',\n",
       "  'type': 'tool_call'}]"
      ]
     },
     "execution_count": 31,
     "metadata": {},
     "output_type": "execute_result"
    }
   ],
   "source": [
    "llm.invoke([HumanMessage(content=\"What is the recent AI news?\")]).tool_calls"
   ]
  },
  {
   "cell_type": "code",
   "execution_count": 32,
   "id": "a8f7e233",
   "metadata": {},
   "outputs": [],
   "source": [
    "class State(BaseModel):\n",
    "    messages: Annotated[list[AnyMessage], add_messages]\n",
    "\n",
    "    @field_serializer\n",
    "    def messages_serializers(self, messages: list[AnyMessage]) -> list[dict]:\n",
    "        return [message.model_dump() for message in messages]\n",
    "\n",
    "\n",
    "class LlmWithTools:\n",
    "    def __init__(self, llm: ChatOllama) -> None:\n",
    "        self.llm = llm\n",
    "\n",
    "    def __call__(self, state: State) -> dict:\n",
    "        return dict(messages=llm.invoke(state.messages))"
   ]
  },
  {
   "cell_type": "code",
   "execution_count": 33,
   "id": "8891e802",
   "metadata": {},
   "outputs": [
    {
     "data": {
      "image/png": "[encoded data removed]",
      "text/plain": [
       "<IPython.core.display.Image object>"
      ]
     },
     "metadata": {},
     "output_type": "display_data"
    }
   ],
   "source": [
    "builder = StateGraph(State)\n",
    "builder.add_node(\"llm_with_tools\", LlmWithTools(llm))\n",
    "builder.add_node(\"tools\", ToolNode(tools=tools))\n",
    "\n",
    "builder.add_edge(START, \"llm_with_tools\")\n",
    "builder.add_conditional_edges(\"llm_with_tools\", tools_condition)\n",
    "builder.add_edge(\"llm_with_tools\", END)\n",
    "\n",
    "graph = builder.compile()\n",
    "\n",
    "display(Image(graph.get_graph().draw_mermaid_png()))"
   ]
  },
  {
   "cell_type": "code",
   "execution_count": 41,
   "id": "2eeff2bc",
   "metadata": {},
   "outputs": [],
   "source": [
    "result = graph.invoke(\n",
    "    dict(messages=[HumanMessage(content=\"1706.03762\", name=\"Hyan\")])\n",
    ")"
   ]
  },
  {
   "cell_type": "code",
   "execution_count": 42,
   "id": "f37b2d0e",
   "metadata": {},
   "outputs": [
    {
     "name": "stdout",
     "output_type": "stream",
     "text": [
      "================================\u001b[1m Human Message \u001b[0m=================================\n",
      "Name: Hyan\n",
      "\n",
      "1706.03762\n",
      "==================================\u001b[1m Ai Message \u001b[0m==================================\n",
      "\n",
      "It seems like you're referencing an ArXiv paper by its identifier (1706.03762). Would you like me to fetch the summary or abstract of this paper for you? If so, I will use the `arxiv` function to do that.\n",
      "Tool Calls:\n",
      "  arxiv (d1a8fcbc-dd48-4cda-a497-21a8f06b1a78)\n",
      " Call ID: d1a8fcbc-dd48-4cda-a497-21a8f06b1a78\n",
      "  Args:\n",
      "    query: 1706.03762\n",
      "=================================\u001b[1m Tool Message \u001b[0m=================================\n",
      "Name: arxiv\n",
      "\n",
      "Published: 2023-08-02\n",
      "Title: Attention Is All You Need\n",
      "Authors: Ashish Vaswani, Noam Shazeer, Niki Parmar, Jakob Uszkoreit, Llion Jones, Aidan N. Gomez, Lukasz Kaiser, Illia Polosukhin\n",
      "Summary: The dominant sequence transduction models are based on complex recurrent or\n",
      "convolutional neural networks in an encoder-decoder configuration. The best\n",
      "performing models also connect the encoder and decoder through an attention\n",
      "mechanism. We propose a new simple network architecture, the Transformer, base\n"
     ]
    }
   ],
   "source": [
    "_ = [message.pretty_print() for message in result.get(\"messages\")]"
   ]
  },
  {
   "cell_type": "code",
   "execution_count": 43,
   "id": "d23ede05",
   "metadata": {},
   "outputs": [
    {
     "name": "stdout",
     "output_type": "stream",
     "text": [
      "================================\u001b[1m Human Message \u001b[0m=================================\n",
      "Name: Hyan\n",
      "\n",
      "Provide the 10 most recent AI news of today.\n",
      "==================================\u001b[1m Ai Message \u001b[0m==================================\n",
      "Tool Calls:\n",
      "  tavily_search (d7fb7b47-40b8-4814-8398-02ca8bf6d4c4)\n",
      " Call ID: d7fb7b47-40b8-4814-8398-02ca8bf6d4c4\n",
      "  Args:\n",
      "    query: AI news\n",
      "    search_depth: advanced\n",
      "    time_range: day\n",
      "=================================\u001b[1m Tool Message \u001b[0m=================================\n",
      "Name: tavily_search\n",
      "\n",
      "{\"query\": \"AI news\", \"follow_up_questions\": null, \"answer\": null, \"images\": [], \"results\": [{\"url\": \"https://www.artificialintelligence-news.com/artificial-intelligence-news/\", \"title\": \"TechForge - AI News\", \"content\": \"The technical storage or access is required to create user profiles to send advertising, or to track the user on a website or across several websites for similar marketing purposes.\\n\\nManage optionsManage servicesManage {vendor_count} vendorsRead more about these purposes\\n\\nAccept Deny View preferences Save preferencesView preferences\\n\\nCookie PolicyPrivacy Policy{title}\\n\\nSkip to content\\n\\nAI News is part of the TechForge Publications series [...] June 30, 2025\\n\\nExploring how AI has changed daily life\\n====================================================================================================================================\\n\\nImage 13: Illustration of someone handing over money as Anthropic tasks its Claude AI model with running a small business to test its real-world economic capabilities.\\n\\nJune 27, 2025 [...] June 26, 2025\\n\\nMajor AI chatbots parrot CCP propaganda\\n====================================================================================================================================\\n\\nImage 16: Fake written in graffiti on a wall as critics fear the revised NO FAKES Act has morphed from targeted AI deepfakes protection into sweeping censorship powers that poses a threat to internet freedom, free speech, and more.\\n\\nJune 25, 2025\", \"score\": 0.8020137, \"raw_content\": null}, {\"url\": \"https://techcrunch.com/category/artificial-intelligence/\", \"title\": \"AI News & Artificial Intelligence | TechCrunch\", \"content\": \"AI News & Artificial Intelligence | TechCrunch\\n\\n===============\\nAI News & Artificial Intelligence | TechCrunch\\n\\n===============\\nSkip to content\\n\\nImage 1TechCrunch Desktop LogoImage 2TechCrunch Mobile Logo\\n\\n   Latest\\n   Startups\\n   Venture\\n   Apple\\n   Security\\n   AI\\n   Apps\\n\\n   Events\\n   Podcasts\\n   Newsletters\\n\\nSearch \\n\\nSubmit\\n\\nSite Search Toggle\\n\\nMega Menu Toggle\\n\\n### Topics\\n\\nLatest\\n\\nAI\\n\\nAmazon\\n\\nApps\\n\\nBiotech & Health\\n\\nClimate\\n\\nCloud Computing\\n\\nCommerce\\n\\nCrypto\\n\\nEnterprise\\n\\nEVs\\n\\nFintech [...] In Brief \\n### Nvidia reportedly plans to release new AI chip designed for China\\n\\n       Rebecca Szkutak\\n\\n 24 hours ago\\n\\n   \\nImage 12: The Google Gemini generative AI logo on a smartphone.\\n\\nAI \\n### Google adds image-to-video generation capability to Veo 3\\n\\n       Ivan Mehta\\n\\n 1 day ago\\n\\n   \\nImage 13\\n\\nAI \\n### Grok is coming to Tesla vehicles ‘next week,’ says Elon Musk\\n\\n       Rebecca Bellan\\n\\n 1 day ago\\n\\n   \\nImage 14: satellite orbiting earth\\n\\nAI \\n### LGND wants to make ChatGPT for the Earth [...] In Brief \\n### OpenAI is reportedly releasing an AI browser in the coming weeks\\n\\n       Maxwell Zeff\\n\\n 2 days ago\\n\\n   \\nImage 24: In this photo illustration a Youtube TV logo seen displayed\\n\\nMedia & Entertainment \\n### YouTube prepares crackdown on ‘mass-produced’ and ‘repetitive’ videos, as concern over AI slop grows\\n\\n       Sarah Perez\\n\\n 2 days ago\\n\\n   \\nImage 25: Dave Park, co-founder and CEO of Narada AI\\n\\nStartups \\n### SaaS is in the past. The future belongs to agents, says Narada AI’s CEO.\", \"score\": 0.7001783, \"raw_content\": null}, {\"url\": \"https://www.cnbc.com/2025/07/11/goldman-sachs-autonomous-coder-pilot-marks-major-ai-milestone.html\", \"title\": \"Goldman Sachs autonomous coder pilot marks major AI milestone\", \"content\": \"Tech giants including Microsoft and Alphabet have said AI is already producing about 30% of the code on some projects, and Salesforce CEO Marc Benioffsaid last month that AI handles as much as 50% of the work at his company.\\n\\nAt Goldman Sachs, one of the world’s top investment banks, this more powerful form of AI has the potential to boost worker productivity by up to three or four times the rate of previous AI tools, according to Argenti. [...] “Initially, we will have hundreds of Devins [and] that might go into the thousands, depending on the use cases,” he said.\\n\\nIt’s the latest indicator of the dizzying speed in which AI is being adopted in the corporate world. Just last year, Wall Street firms including JPMorgan Chase and Morgan Stanley were rolling out cognitive assistants based on OpenAI models to get employees acquainted with the technology. [...] Executives at companies from Amazon to Ford have grown more candid about what AI will mean for hiring plans. Banks around the world will cut as many as 200,000 jobs in the next three to five years as they implement AI, Bloomberg’s research arm said in January.\\n\\nFor his part, Argenti — who joined Goldman from Amazon in 2019 — charted out a vision for the near future that he called a “hybrid workforce” where humans and AI coexist.\", \"score\": 0.56200886, \"raw_content\": null}, {\"url\": \"https://aimagazine.com/articles/this-weeks-top-5-stories-in-ai-07-july-2025\", \"title\": \"This Week's Top 5 Stories in AI - AI Magazine\", \"content\": \"Four teams of autonomous humanoid robots have now competed in China’s first AI-powered football tournament in Beijing’s Yizhuang Development Zone.\\n\\nThe event, part of the Robo League robot football tournament, is a unique milestone for real-world AI competition in China.\\n\\nBooster Robotics, the company that supplied the robot players, provided humanoid units that operated without human control. [...] News & Articles ArticlesInterviewsTop 10VideosIndustry Events   \\n       Magazines AI MagazineTechnology MagazineCyber Magazine   \\n       Reports & Whitepapers Company Reports   \\n       Topics Artificial IntelligenceMachine LearningAR & VRData & AnalyticsTechnologyAI Applications   \\n       Webinars\\n       Our Events Cloud & 5G LIVETech & AI LIVETech & AI LIVE: SingaporeTech & AI LIVE: New YorkThe Global Tech & AI Awards 2025   \\n       Advertise\\n       Editorial [...] In Meta’s latest move of intensifying competition for AI talent, it has attracted Ruoming Pang, a distinguished engineer who managed Apple’s foundation models team.\\n\\nMeta poaches Apple’s Top AI executive amid global talent war\\n\\nMeta secured Ruoming’s services with a compensation package worth tens of millions of dollars per year, Bloomberg says according to people familiar with the matter.\", \"score\": 0.5521781, \"raw_content\": null}, {\"url\": \"https://www.youtube.com/watch?v=0vYROMxyniY\", \"title\": \"AI for Good Summit 2025 - Day 4 - YouTube\", \"content\": \"Join the Neural Network!\\n👉\\nThe AI for Good networking community platform powered by AI. \\nDesigned to help users build connections with innovators and experts, link innovative ideas with social impact opportunities, and bring the community together to advance the SDGs using AI.\\n\\n🔴 Watch the latest #AIforGood videos!\\n\\n📩 Stay updated and join our weekly AI for Good newsletter:\\n\\n🗞Check out the latest AI for Good news:\\n\\n📱Explore the AI for Good blog:\", \"score\": 0.5069581, \"raw_content\": null}], \"response_time\": 1.89}\n"
     ]
    }
   ],
   "source": [
    "result = graph.invoke(\n",
    "    dict(messages=[HumanMessage(content=\"Provide the 10 most recent AI news of today.\", name=\"Hyan\")])\n",
    ")\n",
    "_ = [message.pretty_print() for message in result.get(\"messages\")]"
   ]
  },
  {
   "cell_type": "code",
   "execution_count": null,
   "id": "2ecf7bc1",
   "metadata": {},
   "outputs": [],
   "source": []
  }
 ],
 "metadata": {
  "kernelspec": {
   "display_name": "agentic-ai-pg",
   "language": "python",
   "name": "python3"
  },
  "language_info": {
   "codemirror_mode": {
    "name": "ipython",
    "version": 3
   },
   "file_extension": ".py",
   "mimetype": "text/x-python",
   "name": "python",
   "nbconvert_exporter": "python",
   "pygments_lexer": "ipython3",
   "version": "3.13.5"
  }
 },
 "nbformat": 4,
 "nbformat_minor": 5
}
