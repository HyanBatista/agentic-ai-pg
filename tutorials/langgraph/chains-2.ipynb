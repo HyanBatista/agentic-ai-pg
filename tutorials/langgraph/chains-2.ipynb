{
 "cells": [
  {
   "cell_type": "code",
   "execution_count": 28,
   "id": "82f8bec4",
   "metadata": {},
   "outputs": [],
   "source": [
    "from typing import Annotated\n",
    "\n",
    "from IPython.display import Image, display\n",
    "from langchain_core.messages import AIMessage, AnyMessage, HumanMessage\n",
    "from langchain_ollama import ChatOllama\n",
    "from langgraph.graph import END, START, StateGraph\n",
    "from langgraph.graph.message import add_messages\n",
    "from langgraph.prebuilt import ToolNode, tools_condition\n",
    "from pydantic import BaseModel, field_serializer"
   ]
  },
  {
   "cell_type": "code",
   "execution_count": 15,
   "id": "081ae261",
   "metadata": {},
   "outputs": [],
   "source": [
    "llm = ChatOllama(model=\"qwen2.5\")"
   ]
  },
  {
   "cell_type": "code",
   "execution_count": 16,
   "id": "2f16e594",
   "metadata": {},
   "outputs": [],
   "source": [
    "def add(a: int, b: int) -> int:\n",
    "    \"\"\"\n",
    "    Add two integers and return the result.\n",
    "\n",
    "    Parameters:\n",
    "        a (int): The first integer.\n",
    "        b (int): The second integer.\n",
    "\n",
    "    Returns:\n",
    "        int: The sum of a and b.\n",
    "    \"\"\"\n",
    "    return a + b"
   ]
  },
  {
   "cell_type": "code",
   "execution_count": 17,
   "id": "ef1fe0d2",
   "metadata": {},
   "outputs": [],
   "source": [
    "llm = llm.bind_tools([add])\n",
    "response = llm.invoke([HumanMessage(\"What is 2 plus 2?\", name=\"Hyan\")])"
   ]
  },
  {
   "cell_type": "code",
   "execution_count": 18,
   "id": "ff4429d3",
   "metadata": {},
   "outputs": [
    {
     "data": {
      "text/plain": [
       "[{'name': 'add',\n",
       "  'args': {'a': 2, 'b': 2},\n",
       "  'id': '5e2681ee-0ce9-4a11-8ff2-3f746f833e11',\n",
       "  'type': 'tool_call'}]"
      ]
     },
     "execution_count": 18,
     "metadata": {},
     "output_type": "execute_result"
    }
   ],
   "source": [
    "response.tool_calls"
   ]
  },
  {
   "cell_type": "code",
   "execution_count": 19,
   "id": "e0302b1b",
   "metadata": {},
   "outputs": [],
   "source": [
    "class State(BaseModel):\n",
    "    messages: Annotated[list[AnyMessage], add_messages]\n",
    "\n",
    "    @field_serializer\n",
    "    def serialize_messages(self, messages: list[AnyMessage]) -> list[dict]:\n",
    "        return [message.model_dump() for message in messages]"
   ]
  },
  {
   "cell_type": "code",
   "execution_count": 20,
   "id": "20f5a315",
   "metadata": {},
   "outputs": [],
   "source": [
    "initial_messages = [\n",
    "    AIMessage(content=\"Please tell me how can I help.\", name=\"LlmModel\"),\n",
    "    HumanMessage(content=\"I want to learn coding.\", name=\"Hyan\"),\n",
    "]\n",
    "\n",
    "ai_message = AIMessage(\n",
    "    content=\"Which programming language do you want to learn?\", name=\"LllModel\"\n",
    ")"
   ]
  },
  {
   "cell_type": "code",
   "execution_count": 21,
   "id": "8ef076fe",
   "metadata": {},
   "outputs": [
    {
     "data": {
      "text/plain": [
       "[AIMessage(content='Please tell me how can I help.', additional_kwargs={}, response_metadata={}, name='LlmModel', id='681ea2b6-85cf-4601-989a-43448078c20a'),\n",
       " HumanMessage(content='I want to learn coding.', additional_kwargs={}, response_metadata={}, name='Hyan', id='0bc4d57b-24da-4d35-b1c3-caf8b0cfef41'),\n",
       " AIMessage(content='Which programming language do you want to learn?', additional_kwargs={}, response_metadata={}, name='LllModel', id='40d78f45-1b6d-48a3-8fc9-1422f980b4bd')]"
      ]
     },
     "execution_count": 21,
     "metadata": {},
     "output_type": "execute_result"
    }
   ],
   "source": [
    "add_messages(initial_messages, ai_message)"
   ]
  },
  {
   "cell_type": "code",
   "execution_count": 22,
   "id": "c1abe635",
   "metadata": {},
   "outputs": [],
   "source": [
    "class LlmWithTools:\n",
    "    def __init__(self, llm: ChatOllama) -> None:\n",
    "        self.llm = llm\n",
    "\n",
    "    def __call__(self, state: State) -> dict:\n",
    "        return dict(messages=[self.llm.invoke(state.messages)])"
   ]
  },
  {
   "cell_type": "code",
   "execution_count": 23,
   "id": "fe70bd09",
   "metadata": {},
   "outputs": [],
   "source": [
    "llm = llm.bind_tools([add])"
   ]
  },
  {
   "cell_type": "code",
   "execution_count": 24,
   "id": "ea4f9003",
   "metadata": {},
   "outputs": [
    {
     "data": {
      "image/png": "[encoded data removed]",
      "text/plain": [
       "<IPython.core.display.Image object>"
      ]
     },
     "metadata": {},
     "output_type": "display_data"
    }
   ],
   "source": [
    "builder = StateGraph(State)\n",
    "builder.add_node(\"llm_with_tools\", LlmWithTools(llm))\n",
    "builder.add_edge(START, \"llm_with_tools\")\n",
    "builder.add_edge(\"llm_with_tools\", END)\n",
    "\n",
    "graph = builder.compile()\n",
    "\n",
    "display(Image(graph.get_graph().draw_mermaid_png()))"
   ]
  },
  {
   "cell_type": "code",
   "execution_count": 26,
   "id": "a8d73c7e",
   "metadata": {},
   "outputs": [
    {
     "name": "stdout",
     "output_type": "stream",
     "text": [
      "================================\u001b[1m Human Message \u001b[0m=================================\n",
      "\n",
      "What is 2 plus 2?\n",
      "==================================\u001b[1m Ai Message \u001b[0m==================================\n",
      "Tool Calls:\n",
      "  add (94d7ffa3-013f-498a-b8bd-9fae57724b06)\n",
      " Call ID: 94d7ffa3-013f-498a-b8bd-9fae57724b06\n",
      "  Args:\n",
      "    a: 2\n",
      "    b: 2\n"
     ]
    }
   ],
   "source": [
    "messages = graph.invoke(dict(messages=[\"What is 2 plus 2?\"]))\n",
    "\n",
    "for message in messages.get(\"messages\"):\n",
    "    message.pretty_print()"
   ]
  },
  {
   "cell_type": "code",
   "execution_count": 29,
   "id": "d3329085",
   "metadata": {},
   "outputs": [],
   "source": [
    "tools = [add]"
   ]
  },
  {
   "cell_type": "code",
   "execution_count": 33,
   "id": "e3caa562",
   "metadata": {},
   "outputs": [
    {
     "data": {
      "image/png": "[encoded data removed]",
      "text/plain": [
       "<IPython.core.display.Image object>"
      ]
     },
     "metadata": {},
     "output_type": "display_data"
    }
   ],
   "source": [
    "builder = StateGraph(State)\n",
    "builder.add_node(\"llm_with_tools\", LlmWithTools(llm))\n",
    "builder.add_node(\"tools\", ToolNode(tools=tools))\n",
    "\n",
    "builder.add_edge(START, \"llm_with_tools\")\n",
    "builder.add_conditional_edges(\"llm_with_tools\", tools_condition)\n",
    "builder.add_edge(\"tools\", END)\n",
    "\n",
    "graph = builder.compile()\n",
    "\n",
    "display(Image(graph.get_graph().draw_mermaid_png()))"
   ]
  },
  {
   "cell_type": "code",
   "execution_count": 35,
   "id": "a43b6bd7",
   "metadata": {},
   "outputs": [
    {
     "name": "stdout",
     "output_type": "stream",
     "text": [
      "================================\u001b[1m Human Message \u001b[0m=================================\n",
      "\n",
      "What is 2 plus 2?\n",
      "==================================\u001b[1m Ai Message \u001b[0m==================================\n",
      "Tool Calls:\n",
      "  add (1dcdc5da-baf7-41c9-b7ce-3328ce3fcc3c)\n",
      " Call ID: 1dcdc5da-baf7-41c9-b7ce-3328ce3fcc3c\n",
      "  Args:\n",
      "    a: 2\n",
      "    b: 2\n",
      "=================================\u001b[1m Tool Message \u001b[0m=================================\n",
      "Name: add\n",
      "\n",
      "4\n"
     ]
    }
   ],
   "source": [
    "messages = graph.invoke(dict(messages=[\"What is 2 plus 2?\"]))\n",
    "\n",
    "for message in messages.get(\"messages\"):\n",
    "    message.pretty_print()"
   ]
  }
 ],
 "metadata": {
  "kernelspec": {
   "display_name": "agentic-ai-pg",
   "language": "python",
   "name": "python3"
  },
  "language_info": {
   "codemirror_mode": {
    "name": "ipython",
    "version": 3
   },
   "file_extension": ".py",
   "mimetype": "text/x-python",
   "name": "python",
   "nbconvert_exporter": "python",
   "pygments_lexer": "ipython3",
   "version": "3.13.5"
  }
 },
 "nbformat": 4,
 "nbformat_minor": 5
}
