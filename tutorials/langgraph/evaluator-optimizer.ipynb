{
 "cells": [
  {
   "cell_type": "code",
   "execution_count": 24,
   "id": "540d0896",
   "metadata": {},
   "outputs": [],
   "source": [
    "import operator\n",
    "from typing import Annotated, Literal, Optional, Union\n",
    "\n",
    "from IPython.display import Image, Markdown, display\n",
    "from langchain_core.messages import HumanMessage, SystemMessage\n",
    "from langchain_ollama import ChatOllama\n",
    "from langgraph.checkpoint.memory import MemorySaver\n",
    "from langgraph.constants import Send\n",
    "from langgraph.graph import END, START, StateGraph\n",
    "from pydantic import BaseModel, Field"
   ]
  },
  {
   "cell_type": "code",
   "execution_count": 25,
   "id": "feec838e",
   "metadata": {},
   "outputs": [
    {
     "data": {
      "text/plain": [
       "AIMessage(content='I am Qwen, an AI assistant created by Alibaba Cloud. My primary function is to assist users like you with information and tasks, providing help across various topics based on my extensive training. How can I assist you today?', additional_kwargs={}, response_metadata={'model': 'qwen2.5', 'created_at': '2025-07-12T18:17:47.070649Z', 'done': True, 'done_reason': 'stop', 'total_duration': 1977233375, 'load_duration': 44976875, 'prompt_eval_count': 33, 'prompt_eval_duration': 292960791, 'eval_count': 46, 'eval_duration': 1638626542, 'model_name': 'qwen2.5'}, id='run--4c8da5d8-f302-4bc8-ad4b-c7abb0a3dfe8-0', usage_metadata={'input_tokens': 33, 'output_tokens': 46, 'total_tokens': 79})"
      ]
     },
     "execution_count": 25,
     "metadata": {},
     "output_type": "execute_result"
    }
   ],
   "source": [
    "llm = ChatOllama(model=\"qwen2.5\")\n",
    "llm.invoke(\"Who are you?\")"
   ]
  },
  {
   "cell_type": "code",
   "execution_count": 26,
   "id": "f28c66fa",
   "metadata": {},
   "outputs": [],
   "source": [
    "class State(BaseModel):\n",
    "    topic: str = Field(..., description=\"The topic of the joke\")\n",
    "    joke: Optional[str] = Field(None, description=\"A joke to be evaluated\")\n",
    "    feedback: Optional[str] = Field(None, description=\"Feedback from the evaluator\")\n",
    "    funny_or_not: str = Field(None, description=\"Whether the joke is funny or not\")\n",
    "\n",
    "\n",
    "class Feedback(BaseModel):\n",
    "    \"\"\"Feedback model for the evaluator.\"\"\"\n",
    "\n",
    "    score: Literal[\"funny\", \"not funny\"] = Field(\n",
    "        ..., description=\"Score given by the evaluator\"\n",
    "    )\n",
    "    comment: str = Field(..., description=\"Comment from the evaluator\")\n",
    "\n",
    "\n",
    "evaluator = llm.with_structured_output(Feedback)"
   ]
  },
  {
   "cell_type": "code",
   "execution_count": 27,
   "id": "19b1d845",
   "metadata": {},
   "outputs": [],
   "source": [
    "class JokeWriter:\n",
    "    def __init__(self, llm: ChatOllama):\n",
    "        self.llm = llm\n",
    "\n",
    "    def __call__(self, state: State) -> dict:\n",
    "        \"\"\"Generate a joke evaluation using the LLM.\"\"\"\n",
    "        if state.feedback:\n",
    "            joke = self.llm.invoke(\n",
    "                SystemMessage(\n",
    "                    content=(\n",
    "                        f\"Write a joke about {state.topic}. \",\n",
    "                        f\"but take into account the feedback: {state.feedback}\",\n",
    "                    )\n",
    "                ),\n",
    "            )\n",
    "        else:\n",
    "            joke = self.llm.invoke(\n",
    "                [SystemMessage(content=f\"Write a joke about {state.topic}.\")]\n",
    "            )\n",
    "        return {\"joke\": joke.content}\n",
    "\n",
    "\n",
    "class JokeEvaluator:\n",
    "    def __init__(self, evaluator: ChatOllama):\n",
    "        self.evaluator = evaluator\n",
    "\n",
    "    def __call__(self, state: State) -> dict:\n",
    "        \"\"\"Evaluate the joke using the LLM.\"\"\"\n",
    "        feedback: Feedback = self.evaluator.invoke(\n",
    "            [\n",
    "                SystemMessage(content=f\"Evaluate the joke: {state.joke}\"),\n",
    "            ]\n",
    "        )\n",
    "        return {\"feedback\": feedback.comment, \"funny_or_not\": feedback.score}\n",
    "\n",
    "\n",
    "def route_joke(state: State) -> str:\n",
    "    if state.funny_or_not == \"funny\":\n",
    "        return \"accept_joke\"\n",
    "    elif state.funny_or_not == \"not funny\":\n",
    "        return \"reject_and_feedback\""
   ]
  },
  {
   "cell_type": "code",
   "execution_count": 28,
   "id": "fa2f2bbe",
   "metadata": {},
   "outputs": [
    {
     "data": {
      "image/png": "[encoded data removed]",
      "text/plain": [
       "<IPython.core.display.Image object>"
      ]
     },
     "metadata": {},
     "output_type": "display_data"
    }
   ],
   "source": [
    "optimizer_builder = StateGraph(State)\n",
    "optimizer_builder.add_node(\"joke_writer\", JokeWriter(llm))\n",
    "optimizer_builder.add_node(\"joke_evaluator\", JokeEvaluator(evaluator))\n",
    "\n",
    "optimizer_builder.add_edge(START, \"joke_writer\")\n",
    "optimizer_builder.add_edge(\"joke_writer\", \"joke_evaluator\")\n",
    "optimizer_builder.add_conditional_edges(\"joke_evaluator\", route_joke, {\n",
    "    \"accept_joke\": END,\n",
    "    \"reject_and_feedback\": \"joke_writer\"\n",
    "})\n",
    "\n",
    "optimizer_workflow = optimizer_builder.compile()\n",
    "\n",
    "display(Image(optimizer_workflow.get_graph().draw_mermaid_png()))"
   ]
  },
  {
   "cell_type": "code",
   "execution_count": 29,
   "id": "a921be20",
   "metadata": {},
   "outputs": [],
   "source": [
    "state = optimizer_workflow.invoke({\"topic\": \"Agentic AI systems\"})"
   ]
  },
  {
   "cell_type": "code",
   "execution_count": 33,
   "id": "80c49f7a",
   "metadata": {},
   "outputs": [
    {
     "data": {
      "text/markdown": [
       "```markdown\n",
       "- **topic**: Agentic AI systems\n",
       "- **joke**: Why did the Agentic AI system refuse to play 2D games?\n",
       "  \n",
       "  Because it thought they were too passive and lacked autonomy!\n",
       "- **feedback**: The joke plays on the idea that an agentic AI, which is designed to act autonomously, would find traditional 2D games unengaging due to their typically passive nature. It's a clever play on the characteristics of both AIs and video games.\n",
       "- **funny_or_not**: funny\n",
       "```"
      ],
      "text/plain": [
       "<IPython.core.display.Markdown object>"
      ]
     },
     "execution_count": 33,
     "metadata": {},
     "output_type": "execute_result"
    }
   ],
   "source": [
    "Markdown(llm.invoke(f\"Formmat in markdown: {state}\").content)"
   ]
  },
  {
   "cell_type": "code",
   "execution_count": null,
   "id": "6552f047",
   "metadata": {},
   "outputs": [],
   "source": []
  }
 ],
 "metadata": {
  "kernelspec": {
   "display_name": "agentic-ai-pg",
   "language": "python",
   "name": "python3"
  },
  "language_info": {
   "codemirror_mode": {
    "name": "ipython",
    "version": 3
   },
   "file_extension": ".py",
   "mimetype": "text/x-python",
   "name": "python",
   "nbconvert_exporter": "python",
   "pygments_lexer": "ipython3",
   "version": "3.13.5"
  }
 },
 "nbformat": 4,
 "nbformat_minor": 5
}
