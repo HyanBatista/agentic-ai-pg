{
 "cells": [
  {
   "cell_type": "code",
   "execution_count": 8,
   "id": "a8494b2e",
   "metadata": {},
   "outputs": [],
   "source": [
    "import os\n",
    "from typing import Annotated\n",
    "\n",
    "from IPython.display import Image, display\n",
    "from langchain_community.tools import ArxivQueryRun, WikipediaQueryRun\n",
    "from langchain_community.utilities import ArxivAPIWrapper, WikipediaAPIWrapper\n",
    "from langchain_core.messages import AIMessage, AnyMessage, HumanMessage\n",
    "from langchain_ollama import ChatOllama\n",
    "from langchain_tavily import TavilySearch\n",
    "from langgraph.checkpoint.memory import MemorySaver\n",
    "from langgraph.graph import END, START, StateGraph\n",
    "from langgraph.graph.message import add_messages\n",
    "from langgraph.prebuilt import ToolNode, tools_condition\n",
    "from pydantic import BaseModel, field_serializer"
   ]
  },
  {
   "cell_type": "code",
   "execution_count": 9,
   "id": "9c9158b2",
   "metadata": {},
   "outputs": [],
   "source": [
    "def add(a: float, b: float) -> float:\n",
    "    \"\"\"\n",
    "    Add two numbers.\n",
    "\n",
    "    Args:\n",
    "        a (float): The first number.\n",
    "        b (float): The second number.\n",
    "\n",
    "    Returns:\n",
    "        float: The sum of a and b.\n",
    "    \"\"\"\n",
    "    return a + b\n",
    "\n",
    "def multiply(a: float, b: float) -> float:\n",
    "    \"\"\"\n",
    "    Multiply two numbers.\n",
    "\n",
    "    Args:\n",
    "        a (float): The first number.\n",
    "        b (float): The second number.\n",
    "\n",
    "    Returns:\n",
    "        float: The product of a and b.\n",
    "    \"\"\"\n",
    "    return a * b"
   ]
  },
  {
   "cell_type": "code",
   "execution_count": 10,
   "id": "62b91588",
   "metadata": {},
   "outputs": [],
   "source": [
    "api_wrapper_wiki = WikipediaAPIWrapper(top_k_results=1, doc_content_chars_max=500)\n",
    "wiki = WikipediaQueryRun(api_wrapper=api_wrapper_wiki)\n",
    "\n",
    "api_wrapper_arxiv = ArxivAPIWrapper(top_k_results=2, doc_content_chars_max=500)\n",
    "arxiv = ArxivQueryRun(api_wrapper=api_wrapper_arxiv)\n",
    "\n",
    "tavily = TavilySearch()"
   ]
  },
  {
   "cell_type": "code",
   "execution_count": 11,
   "id": "54ac11ae",
   "metadata": {},
   "outputs": [],
   "source": [
    "tools = [arxiv, wiki, tavily, add, multiply]\n",
    "llm = ChatOllama(model=\"qwen2.5\")\n",
    "llm = llm.bind_tools(tools=tools)"
   ]
  },
  {
   "cell_type": "code",
   "execution_count": null,
   "id": "593383bf",
   "metadata": {},
   "outputs": [],
   "source": [
    "class State(BaseModel):\n",
    "    messages: Annotated[list[AnyMessage], add_messages]\n",
    "\n",
    "    @field_serializer\n",
    "    def messages_serializers(self, messages: list[AnyMessage]) -> list[dict]:\n",
    "        return [message.model_dump() for message in messages]\n",
    "\n",
    "\n",
    "class LlmWithTools:\n",
    "    def __init__(self, llm: ChatOllama) -> None:\n",
    "        self.llm = llm\n",
    "\n",
    "    def __call__(self, state: State) -> dict:\n",
    "        return dict(messages=self.llm.invoke(state.messages))"
   ]
  },
  {
   "cell_type": "code",
   "execution_count": 13,
   "id": "1d8f1375",
   "metadata": {},
   "outputs": [
    {
     "data": {
      "image/png": "[encoded data removed]",
      "text/plain": [
       "<IPython.core.display.Image object>"
      ]
     },
     "metadata": {},
     "output_type": "display_data"
    }
   ],
   "source": [
    "builder = StateGraph(State)\n",
    "builder.add_node(\"llm_with_tools\", LlmWithTools(llm))\n",
    "builder.add_node(\"tools\", ToolNode(tools=tools))\n",
    "\n",
    "builder.add_edge(START, \"llm_with_tools\")\n",
    "builder.add_conditional_edges(\"llm_with_tools\", tools_condition)\n",
    "builder.add_edge(\"tools\", \"llm_with_tools\")\n",
    "builder.add_edge(\"llm_with_tools\", END)\n",
    "\n",
    "graph = builder.compile()\n",
    "\n",
    "display(Image(graph.get_graph().draw_mermaid_png()))"
   ]
  },
  {
   "cell_type": "code",
   "execution_count": 14,
   "id": "1b930b29",
   "metadata": {},
   "outputs": [
    {
     "name": "stdout",
     "output_type": "stream",
     "text": [
      "================================\u001b[1m Human Message \u001b[0m=================================\n",
      "Name: Hyan\n",
      "\n",
      "Provide the 10 most recent AI news of today.\n",
      "==================================\u001b[1m Ai Message \u001b[0m==================================\n",
      "Tool Calls:\n",
      "  tavily_search (9c0d3713-ef32-4c9b-bb14-41710317af55)\n",
      " Call ID: 9c0d3713-ef32-4c9b-bb14-41710317af55\n",
      "  Args:\n",
      "    query: AI news\n",
      "    time_range: day\n",
      "    topic: news\n",
      "=================================\u001b[1m Tool Message \u001b[0m=================================\n",
      "Name: tavily_search\n",
      "\n",
      "{\"query\": \"AI news\", \"follow_up_questions\": null, \"answer\": null, \"images\": [], \"results\": [{\"url\": \"https://www.youtube.com/watch?v=kOQ5QWfsGJE\", \"title\": \"The BEAST is UNLEASHED! Latest AI News to blow your mind!\", \"content\": \"HUGE Thanks to Invideo AI for sponsoring today's video, check out their one of a kind v4 model here; it's the only AI out there that can one shot entire\", \"score\": 0.66621506, \"raw_content\": null}, {\"url\": \"https://komonews.com/news/local/microsoft-president-brad-smith-layoffs-artificial-intelligence-4-billion-dollars-ai-investors-business-company-technology-governor-bob-ferguson\", \"title\": \"Microsoft announces $4 billion AI training initiative amid recent layoffs\", \"content\": \"Microsoft President Brad Smith says recent layoffs were not directly tied to the burgeoning investment in artificial intelligence.\", \"score\": 0.27137282, \"raw_content\": null}, {\"url\": \"https://www.cnbc.com/2025/07/11/intel-ai-robotics-realsense.html\", \"title\": \"Intel spins out AI robotics company RealSense with $50 million raise\", \"content\": \"Intel said it is spinning out its artificial intelligence robotics and biometric venture RealSense and announced a $50 million funding round.\", \"score\": 0.25609455, \"raw_content\": null}, {\"url\": \"https://www.nytimes.com/2025/07/11/technology/personaltech/ai-internet-browser-dia.html\", \"title\": \"Is A.I. the Future of Web Browsing? - The New York Times\", \"content\": \"A test of the app Dia illustrates that the humble web browser may be the path to making artificial intelligence more natural to use.\", \"score\": 0.22146891, \"raw_content\": null}], \"response_time\": 2.36}\n",
      "==================================\u001b[1m Ai Message \u001b[0m==================================\n",
      "\n",
      "Here are some of the most recent AI news from today:\n",
      "\n",
      "1. **The BEAST is UNLEASHED! Latest AI News to blow your mind!**\n",
      "   - [YouTube Video](https://www.youtube.com/watch?v=kOQ5QWfsGJE)\n",
      "   - \"HUGE Thanks to Invideo AI for sponsoring today's video, check out their one of a kind v4 model here; it's the only AI out there that can one shot entire\"\n",
      "\n",
      "2. **Microsoft announces $4 billion AI training initiative amid recent layoffs**\n",
      "   - [Article](https://komonews.com/news/local/microsoft-president-brad-smith-layoffs-artificial-intelligence-4-billion-dollars-ai-investors-business-company-technology-governor-bob-ferguson)\n",
      "   - \"Microsoft President Brad Smith says recent layoffs were not directly tied to the burgeoning investment in artificial intelligence.\"\n",
      "\n",
      "3. **Intel spins out AI robotics company RealSense with $50 million raise**\n",
      "   - [Article](https://www.cnbc.com/2025/07/11/intel-ai-robotics-realsense.html)\n",
      "   - \"Intel said it is spinning out its artificial intelligence robotics and biometric venture RealSense and announced a $50 million funding round.\"\n",
      "\n",
      "4. **Is A.I. the Future of Web Browsing? - The New York Times**\n",
      "   - [Article](https://www.nytimes.com/2025/07/11/technology/personaltech/ai-internet-browser-dia.html)\n",
      "   - \"A test of the app Dia illustrates that the humble web browser may be the path to making artificial intelligence more natural to use.\"\n",
      "\n",
      "These articles cover a range of topics from AI news and developments in technology, including significant investments and new ventures.\n"
     ]
    }
   ],
   "source": [
    "result = graph.invoke(\n",
    "    dict(messages=[HumanMessage(content=\"Provide the 10 most recent AI news of today.\", name=\"Hyan\")])\n",
    ")\n",
    "_ = [message.pretty_print() for message in result.get(\"messages\")]"
   ]
  },
  {
   "cell_type": "code",
   "execution_count": 15,
   "id": "5526730e",
   "metadata": {},
   "outputs": [
    {
     "name": "stdout",
     "output_type": "stream",
     "text": [
      "================================\u001b[1m Human Message \u001b[0m=================================\n",
      "Name: Hyan\n",
      "\n",
      "What is machine learning?\n",
      "==================================\u001b[1m Ai Message \u001b[0m==================================\n",
      "Tool Calls:\n",
      "  wikipedia (81becf46-e2b0-4e7f-905a-8ec70675760b)\n",
      " Call ID: 81becf46-e2b0-4e7f-905a-8ec70675760b\n",
      "  Args:\n",
      "    query: machine learning\n",
      "=================================\u001b[1m Tool Message \u001b[0m=================================\n",
      "Name: wikipedia\n",
      "\n",
      "Page: Machine learning\n",
      "Summary: Machine learning (ML) is a field of study in artificial intelligence concerned with the development and study of statistical algorithms that can learn from data and generalise to unseen data, and thus perform tasks without explicit instructions. Within a subdiscipline in machine learning, advances in the field of deep learning have allowed neural networks, a class of statistical algorithms, to surpass many previous machine learning approaches in performance.\n",
      "ML fi\n",
      "==================================\u001b[1m Ai Message \u001b[0m==================================\n",
      "\n",
      "Machine Learning (ML) is a field within Artificial Intelligence that focuses on developing and studying algorithms which can learn from data and generalize to unseen data. This allows machines to perform tasks without being explicitly programmed for them. Within the subdiscipline of machine learning, significant advancements have been made in deep learning, where neural networks—advanced types of statistical algorithms—have outperformed many previous approaches.\n",
      "\n",
      "If you need more detailed information or have specific questions about machine learning, feel free to ask!\n"
     ]
    }
   ],
   "source": [
    "result = graph.invoke(\n",
    "    dict(messages=[HumanMessage(content=\"What is machine learning?\", name=\"Hyan\")])\n",
    ")\n",
    "_ = [message.pretty_print() for message in result.get(\"messages\")]"
   ]
  },
  {
   "cell_type": "code",
   "execution_count": 16,
   "id": "9725188f",
   "metadata": {},
   "outputs": [
    {
     "data": {
      "image/png": "[encoded data removed]",
      "text/plain": [
       "<IPython.core.display.Image object>"
      ]
     },
     "metadata": {},
     "output_type": "display_data"
    }
   ],
   "source": [
    "builder = StateGraph(State)\n",
    "builder.add_node(\"llm_with_tools\", LlmWithTools(llm))\n",
    "builder.add_node(\"tools\", ToolNode(tools=tools))\n",
    "\n",
    "builder.add_edge(START, \"llm_with_tools\")\n",
    "builder.add_conditional_edges(\"llm_with_tools\", tools_condition)\n",
    "builder.add_edge(\"tools\", \"llm_with_tools\")\n",
    "builder.add_edge(\"llm_with_tools\", END)\n",
    "\n",
    "graph = builder.compile()\n",
    "\n",
    "display(Image(graph.get_graph().draw_mermaid_png()))"
   ]
  },
  {
   "cell_type": "code",
   "execution_count": 17,
   "id": "1a3eaede",
   "metadata": {},
   "outputs": [
    {
     "data": {
      "image/png": "[encoded data removed]",
      "text/plain": [
       "<IPython.core.display.Image object>"
      ]
     },
     "metadata": {},
     "output_type": "display_data"
    }
   ],
   "source": [
    "memory = MemorySaver()\n",
    "graph_with_memory = builder.compile(checkpointer=memory)\n",
    "\n",
    "display(Image(graph_with_memory.get_graph().draw_mermaid_png()))"
   ]
  },
  {
   "cell_type": "code",
   "execution_count": 18,
   "id": "3b953625",
   "metadata": {},
   "outputs": [
    {
     "name": "stdout",
     "output_type": "stream",
     "text": [
      "================================\u001b[1m Human Message \u001b[0m=================================\n",
      "\n",
      "What is 15 plus 15\n",
      "==================================\u001b[1m Ai Message \u001b[0m==================================\n",
      "Tool Calls:\n",
      "  add (46795c2d-b48e-41b5-8467-013f3085a965)\n",
      " Call ID: 46795c2d-b48e-41b5-8467-013f3085a965\n",
      "  Args:\n",
      "    a: 15\n",
      "    b: 15\n",
      "=================================\u001b[1m Tool Message \u001b[0m=================================\n",
      "Name: add\n",
      "\n",
      "30.0\n",
      "==================================\u001b[1m Ai Message \u001b[0m==================================\n",
      "\n",
      "The result of 15 plus 15 is 30.\n"
     ]
    }
   ],
   "source": [
    "config = {\"configurable\": {\"thread_id\": \"1\"}}\n",
    "result = graph_with_memory.invoke(dict(messages=[HumanMessage(content=\"What is 15 plus 15\")]), config=config)\n",
    "_ = [message.pretty_print() for message in result.get(\"messages\")]"
   ]
  },
  {
   "cell_type": "code",
   "execution_count": 19,
   "id": "a3e5abe1",
   "metadata": {},
   "outputs": [
    {
     "name": "stdout",
     "output_type": "stream",
     "text": [
      "================================\u001b[1m Human Message \u001b[0m=================================\n",
      "\n",
      "What is 15 plus 15\n",
      "==================================\u001b[1m Ai Message \u001b[0m==================================\n",
      "Tool Calls:\n",
      "  add (46795c2d-b48e-41b5-8467-013f3085a965)\n",
      " Call ID: 46795c2d-b48e-41b5-8467-013f3085a965\n",
      "  Args:\n",
      "    a: 15\n",
      "    b: 15\n",
      "=================================\u001b[1m Tool Message \u001b[0m=================================\n",
      "Name: add\n",
      "\n",
      "30.0\n",
      "==================================\u001b[1m Ai Message \u001b[0m==================================\n",
      "\n",
      "The result of 15 plus 15 is 30.\n",
      "================================\u001b[1m Human Message \u001b[0m=================================\n",
      "\n",
      "Now, multiply the result by 2\n",
      "==================================\u001b[1m Ai Message \u001b[0m==================================\n",
      "Tool Calls:\n",
      "  multiply (336cd3fc-7833-4077-a530-b6073f15b79e)\n",
      " Call ID: 336cd3fc-7833-4077-a530-b6073f15b79e\n",
      "  Args:\n",
      "    a: 30\n",
      "    b: 2\n",
      "=================================\u001b[1m Tool Message \u001b[0m=================================\n",
      "Name: multiply\n",
      "\n",
      "60.0\n",
      "==================================\u001b[1m Ai Message \u001b[0m==================================\n",
      "\n",
      "The result of multiplying 30 by 2 is 60.\n"
     ]
    }
   ],
   "source": [
    "config = {\"configurable\": {\"thread_id\": \"1\"}}\n",
    "result = graph_with_memory.invoke(dict(messages=[HumanMessage(content=\"Now, multiply the result by 2\")]), config=config)\n",
    "_ = [message.pretty_print() for message in result.get(\"messages\")]"
   ]
  },
  {
   "cell_type": "code",
   "execution_count": null,
   "id": "02d81122",
   "metadata": {},
   "outputs": [],
   "source": []
  },
  {
   "cell_type": "code",
   "execution_count": null,
   "id": "54ed2917",
   "metadata": {},
   "outputs": [],
   "source": []
  },
  {
   "cell_type": "code",
   "execution_count": null,
   "id": "f3e64000",
   "metadata": {},
   "outputs": [],
   "source": []
  }
 ],
 "metadata": {
  "kernelspec": {
   "display_name": "agentic-ai-pg",
   "language": "python",
   "name": "python3"
  },
  "language_info": {
   "codemirror_mode": {
    "name": "ipython",
    "version": 3
   },
   "file_extension": ".py",
   "mimetype": "text/x-python",
   "name": "python",
   "nbconvert_exporter": "python",
   "pygments_lexer": "ipython3",
   "version": "3.13.5"
  }
 },
 "nbformat": 4,
 "nbformat_minor": 5
}
