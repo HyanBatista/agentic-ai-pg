{
 "cells": [
  {
   "cell_type": "code",
   "execution_count": 1,
   "id": "a7882cb2",
   "metadata": {},
   "outputs": [],
   "source": [
    "from typing import Literal, Optional, Union\n",
    "\n",
    "from IPython.display import Image, display\n",
    "from langchain_core.messages import HumanMessage, SystemMessage\n",
    "from langchain_ollama import ChatOllama\n",
    "from langgraph.checkpoint.memory import MemorySaver\n",
    "from langgraph.graph import END, START, StateGraph\n",
    "from pydantic import BaseModel, Field"
   ]
  },
  {
   "cell_type": "code",
   "execution_count": 2,
   "id": "7646b3a4",
   "metadata": {},
   "outputs": [],
   "source": [
    "llm = ChatOllama(model=\"qwen2.5\")"
   ]
  },
  {
   "cell_type": "code",
   "execution_count": 3,
   "id": "66f5d823",
   "metadata": {},
   "outputs": [],
   "source": [
    "class Route(BaseModel):\n",
    "    step: Literal[\"poem\", \"story\", \"joke\"] = Field(description=\"The next step in the routing process.\")\n",
    "\n",
    "\n",
    "router = llm.with_structured_output(Route)"
   ]
  },
  {
   "cell_type": "code",
   "execution_count": 4,
   "id": "f747e9e8",
   "metadata": {},
   "outputs": [],
   "source": [
    "class State(BaseModel):\n",
    "    input: str\n",
    "    decision: Optional[str] = None\n",
    "    output: Optional[str] = None\n",
    "\n",
    "\n",
    "class WriteAStory:\n",
    "    \"\"\"Callable class to generate a story using the LLM.\"\"\"\n",
    "\n",
    "    def __init__(self, llm: ChatOllama) -> None:\n",
    "        self.llm = llm\n",
    "\n",
    "    def __call__(self, state: State) -> dict:\n",
    "        try:\n",
    "            output = self.llm.invoke(state.input).content\n",
    "        except Exception as e:\n",
    "            output = f\"Error generating story: {e}\"\n",
    "        return {\"output\": output}\n",
    "\n",
    "\n",
    "class WriteAJoke:\n",
    "    \"\"\"Callable class to generate a joke using the LLM.\"\"\"\n",
    "\n",
    "    def __init__(self, llm: ChatOllama) -> None:\n",
    "        self.llm = llm\n",
    "\n",
    "    def __call__(self, state: State) -> dict:\n",
    "        try:\n",
    "            output = self.llm.invoke(state.input).content\n",
    "        except Exception as e:\n",
    "            output = f\"Error generating joke: {e}\"\n",
    "        return {\"output\": output}\n",
    "\n",
    "\n",
    "class WriteAPoem:\n",
    "    \"\"\"Callable class to generate a poem using the LLM.\"\"\"\n",
    "\n",
    "    def __init__(self, llm: ChatOllama) -> None:\n",
    "        self.llm = llm\n",
    "\n",
    "    def __call__(self, state: State) -> dict:\n",
    "        try:\n",
    "            output = self.llm.invoke(state.input).content\n",
    "        except Exception as e:\n",
    "            output = f\"Error generating poem: {e}\"\n",
    "        return {\"output\": output}\n",
    "\n",
    "\n",
    "class LlmCallRouter:\n",
    "    \"\"\"\n",
    "    Routes user input to the appropriate LLM task (story, joke, or poem) using the provided router.\n",
    "\n",
    "    The router determines the type of content to generate based on the user's request.\n",
    "    \"\"\"\n",
    "\n",
    "    def __init__(self, router) -> None:\n",
    "        self.router = router\n",
    "\n",
    "    def __call__(self, state: State) -> dict:\n",
    "        try:\n",
    "            decision: Route = self.router.invoke(\n",
    "                [\n",
    "                    SystemMessage(\n",
    "                        content=\"Route the input to story, joke or poem based on the user's request.\"\n",
    "                    ),\n",
    "                    HumanMessage(content=state.input),\n",
    "                ]\n",
    "            )\n",
    "            return {\"decision\": decision.step}\n",
    "        except Exception as e:\n",
    "            return {\"decision\": None, \"error\": str(e)}\n",
    "\n",
    "\n",
    "def route_decision(state: State) -> str:\n",
    "    \"\"\"\n",
    "    Maps the decision in the state to the corresponding node name.\n",
    "\n",
    "    Args:\n",
    "        state (State): The current state containing the decision.\n",
    "\n",
    "    Returns:\n",
    "        str: The name of the node to route to.\n",
    "\n",
    "    Raises:\n",
    "        ValueError: If the decision is not recognized.\n",
    "    \"\"\"\n",
    "    decision_node = {\n",
    "        \"story\": \"write_a_story\",\n",
    "        \"poem\": \"write_a_poem\",\n",
    "        \"joke\": \"write_a_joke\",\n",
    "    }\n",
    "    node = decision_node.get(state.decision)\n",
    "    if node is None:\n",
    "        raise ValueError(f\"Unknown decision: {state.decision}\")\n",
    "    return node"
   ]
  },
  {
   "cell_type": "code",
   "execution_count": 6,
   "id": "6383cde6",
   "metadata": {},
   "outputs": [
    {
     "data": {
      "image/png": "[encoded data removed]",
      "text/plain": [
       "<IPython.core.display.Image object>"
      ]
     },
     "metadata": {},
     "output_type": "display_data"
    }
   ],
   "source": [
    "builder = StateGraph(State)\n",
    "builder.add_node(\"llm_call_router\", LlmCallRouter(router))\n",
    "builder.add_node(\"write_a_story\", WriteAStory(llm))\n",
    "builder.add_node(\"write_a_joke\", WriteAJoke(llm))\n",
    "builder.add_node(\"write_a_poem\", WriteAPoem(llm))\n",
    "\n",
    "builder.add_edge(START, \"llm_call_router\")\n",
    "builder.add_conditional_edges(\n",
    "    \"llm_call_router\",\n",
    "    route_decision,\n",
    "    {\n",
    "        \"write_a_story\": \"write_a_story\",\n",
    "        \"write_a_poem\": \"write_a_poem\",\n",
    "        \"write_a_joke\": \"write_a_joke\",\n",
    "    },\n",
    ")\n",
    "builder.add_edge(\"write_a_story\", END)\n",
    "builder.add_edge(\"write_a_poem\", END)\n",
    "builder.add_edge(\"write_a_joke\", END)\n",
    "\n",
    "graph = builder.compile(checkpointer=MemorySaver())\n",
    "\n",
    "display(Image(graph.get_graph().draw_mermaid_png()))"
   ]
  },
  {
   "cell_type": "code",
   "execution_count": 7,
   "id": "50ca38ed",
   "metadata": {},
   "outputs": [],
   "source": [
    "result = graph.invoke(\n",
    "    {\"input\": \"Write to me a joke about Agentic AI\"},\n",
    "    config={\"configurable\": {\"thread_id\": \"1\"}},\n",
    ")"
   ]
  },
  {
   "cell_type": "code",
   "execution_count": 8,
   "id": "2af3abce",
   "metadata": {},
   "outputs": [
    {
     "data": {
      "text/plain": [
       "{'input': 'Write to me a joke about Agentic AI',\n",
       " 'decision': 'joke',\n",
       " 'output': \"Sure! Here's a light-hearted joke for you:\\n\\nWhy did the Agentic AI apply for a job at a travel agency?\\n\\nBecause it wanted to experience more than just its own virtual world!\"}"
      ]
     },
     "execution_count": 8,
     "metadata": {},
     "output_type": "execute_result"
    }
   ],
   "source": [
    "result"
   ]
  },
  {
   "cell_type": "code",
   "execution_count": null,
   "id": "75146562",
   "metadata": {},
   "outputs": [],
   "source": []
  }
 ],
 "metadata": {
  "kernelspec": {
   "display_name": "agentic-ai-pg",
   "language": "python",
   "name": "python3"
  },
  "language_info": {
   "codemirror_mode": {
    "name": "ipython",
    "version": 3
   },
   "file_extension": ".py",
   "mimetype": "text/x-python",
   "name": "python",
   "nbconvert_exporter": "python",
   "pygments_lexer": "ipython3",
   "version": "3.13.5"
  }
 },
 "nbformat": 4,
 "nbformat_minor": 5
}
