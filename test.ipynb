{
 "cells": [
  {
   "cell_type": "code",
   "execution_count": 4,
   "id": "2e7014f3",
   "metadata": {},
   "outputs": [
    {
     "name": "stdout",
     "output_type": "stream",
     "text": [
      "Quantum entanglement! It's a mind-blowing concept that can be tricky to wrap your head around, but I'll try to break it down simply.\n",
      "\n",
      "**What is quantum entanglement?**\n",
      "\n",
      "Imagine you have two toy boxes, one red and one blue. Each box has a special set of \"toys\" inside (like tiny balls or stones). These toys are connected in a way that's hard to understand, even if they're on opposite sides of the room.\n",
      "\n",
      "**The connection is weird**\n",
      "\n",
      "When something happens to the red box (like you shake it or open it), instantly, something similar happens to the blue box, no matter how far apart they are. It's like the toys in each box can \"talk\" to each other without using any ordinary communication method (like phone calls or emails). This connection is called quantum entanglement.\n",
      "\n",
      "**Why does this happen?**\n",
      "\n",
      "According to scientists, at a very small scale (like atoms and particles), things don't behave according to our everyday rules. They exist in multiple places or states simultaneously (called superposition) until we measure them. When we do measure them, they \"decide\" which state to be in based on the connection with other entangled particles.\n",
      "\n",
      "**Entanglement is like a secret handshake**\n",
      "\n",
      "Think of entanglement as a special kind of \"handshake\" between particles. When two particles are entangled, they're connected in such a way that they respond identically when something happens to one of them. This means that if you do something to the red box's toys, the blue box's toys will react in a matching way, even if they're on opposite sides of the universe!\n",
      "\n",
      "**Implications and applications**\n",
      "\n",
      "Quantum entanglement has many mind-blowing implications:\n",
      "\n",
      "1. **Instant communication**: Entangled particles can \"talk\" to each other instantly, regardless of distance. This challenges our understanding of space and time.\n",
      "2. **Secure communication**: Entangled particles could be used for ultra-secure communication, as any attempt to measure or eavesdrop would disturb the entanglement.\n",
      "3. **Quantum computing**: Entanglement is essential for quantum computers, which process information in a fundamentally different way than classical computers.\n",
      "\n",
      "**Wrap-up**\n",
      "\n",
      "Quantum entanglement is a strange and fascinating phenomenon that shows us how tiny particles can be connected in ways we don't fully understand. It's a reminder of the mysterious and complex nature of the universe, and it continues to inspire new discoveries and innovations!\n"
     ]
    }
   ],
   "source": [
    "from langchain.chains import LLMChain\n",
    "from langchain.prompts import PromptTemplate\n",
    "from langchain_community.llms import Ollama\n",
    "\n",
    "# Initialize Ollama model (e.g., llama3 or mistral, already pulled)\n",
    "llm = Ollama(model=\"llama3:8b\")\n",
    "\n",
    "# Create a simple prompt template\n",
    "prompt = PromptTemplate(\n",
    "    input_variables=[\"topic\"],\n",
    "    template=\"Explain the following topic in simple terms: {topic}\"\n",
    ")\n",
    "\n",
    "# Build the LLM chain\n",
    "chain = LLMChain(llm=llm, prompt=prompt)\n",
    "\n",
    "# Run the chain\n",
    "response = chain.run(\"quantum entanglement\")\n",
    "print(response)"
   ]
  },
  {
   "cell_type": "code",
   "execution_count": null,
   "id": "bbaf428e",
   "metadata": {},
   "outputs": [],
   "source": []
  }
 ],
 "metadata": {
  "kernelspec": {
   "display_name": ".venv",
   "language": "python",
   "name": "python3"
  },
  "language_info": {
   "codemirror_mode": {
    "name": "ipython",
    "version": 3
   },
   "file_extension": ".py",
   "mimetype": "text/x-python",
   "name": "python",
   "nbconvert_exporter": "python",
   "pygments_lexer": "ipython3",
   "version": "3.13.5"
  }
 },
 "nbformat": 4,
 "nbformat_minor": 5
}
